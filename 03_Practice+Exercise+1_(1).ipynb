{
  "cells": [
    {
      "cell_type": "markdown",
      "metadata": {
        "id": "view-in-github",
        "colab_type": "text"
      },
      "source": [
        "<a href=\"https://colab.research.google.com/github/SatyaIyerRaghav/PandaPractisePrograms/blob/main/03_Practice%2BExercise%2B1_(1).ipynb\" target=\"_parent\"><img src=\"https://colab.research.google.com/assets/colab-badge.svg\" alt=\"Open In Colab\"/></a>"
      ]
    },
    {
      "cell_type": "markdown",
      "metadata": {
        "id": "MmzePLdJzYrL"
      },
      "source": [
        "## Practice Exercise 1"
      ]
    },
    {
      "cell_type": "markdown",
      "metadata": {
        "id": "7LRI0QzWzYrW"
      },
      "source": [
        "You are provided with 2 lists that contain the data of an ecommerce website. The first list contains the data for the number of items sold for a particular product and the second list contains the price of the product sold. As a part of this exercise, solve the questions that are provided below."
      ]
    },
    {
      "cell_type": "code",
      "execution_count": 2,
      "metadata": {
        "id": "c6CKolE2zYra"
      },
      "outputs": [],
      "source": [
        "number = [8, 9, 9, 1, 6, 9, 5, 7, 3, 9, 7, 3, 4, 8, 3, 5, 8, 4, 8, 7, 5, 7, 3, 6, 1, 2, 7, 4, 7, 7, 8, 4, 3, 4, 2, 2, 2, 7, 3, 5, 6, 1, 1, 3, 2, 1, 1, 7, 7, 1, 4, 4, 5, 6, 1, 2, 7, 4, 5, 8, 1, 4, 8, 6, 2, 4, 3, 7, 3, 6, 2, 3, 3, 3, 2, 4, 6, 8, 9, 3, 9, 3, 1, 8, 6, 6, 3, 3, 9, 4, 6, 4, 9, 6, 7, 1, 2, 8, 7, 8, 1, 4]\n",
        "price = [195, 225, 150, 150, 90, 60, 75, 255, 270, 225, 135, 195, 30, 15, 210, 105, 15, 30, 180, 60, 165, 60, 45, 225, 180, 90, 30, 210, 150, 15, 270, 60, 210, 180, 60, 225, 150, 150, 120, 195, 75, 240, 60, 45, 30, 180, 240, 285, 135, 165, 180, 240, 60, 105, 165, 240, 120, 45, 120, 165, 285, 225, 90, 105, 225, 45, 45, 45, 75, 180, 90, 240, 30, 30, 60, 135, 180, 15, 255, 180, 270, 135, 105, 135, 210, 180, 135, 195, 225, 75, 225, 15, 240, 60, 15, 180, 255, 90, 15, 150, 230, 150]"
      ]
    },
    {
      "cell_type": "markdown",
      "metadata": {
        "id": "pEHrNbZ2zYrg"
      },
      "source": [
        "#### How many different products are sold by the company in total?\n",
        "\n",
        "-  99\n",
        "-  100\n",
        "-  101\n",
        "-  102\n"
      ]
    },
    {
      "cell_type": "code",
      "execution_count": 3,
      "metadata": {
        "colab": {
          "base_uri": "https://localhost:8080/"
        },
        "id": "1ae7Kg42zYri",
        "outputId": "d5be7f03-2d3f-4b3a-dbfa-140de29cb291"
      },
      "outputs": [
        {
          "output_type": "stream",
          "name": "stdout",
          "text": [
            "102\n"
          ]
        }
      ],
      "source": [
        "# Type your code here\n",
        "print(len(number))"
      ]
    },
    {
      "cell_type": "markdown",
      "metadata": {
        "id": "SotPosJezYrl"
      },
      "source": [
        "#### How many items were sold in total?\n",
        "\n",
        "-  460\n",
        "-  490\n",
        "-  500\n",
        "-  520\n"
      ]
    },
    {
      "cell_type": "code",
      "execution_count": 16,
      "metadata": {
        "colab": {
          "base_uri": "https://localhost:8080/"
        },
        "id": "2NI6h75azYrn",
        "outputId": "132d9928-2c13-460c-c56c-b0e2e2b8c8d5"
      },
      "outputs": [
        {
          "output_type": "stream",
          "name": "stdout",
          "text": [
            "490\n"
          ]
        }
      ],
      "source": [
        "# Type your code here\n",
        "import numpy as np\n",
        "num = np.array(number)\n",
        "print(num.sum())"
      ]
    },
    {
      "cell_type": "markdown",
      "metadata": {
        "id": "86tgfonwzYrp"
      },
      "source": [
        "#### What is the average price of the products sold by the ecommerce company?\n",
        "\n",
        "-  139\n",
        "-  151\n",
        "-  142\n",
        "-  128"
      ]
    },
    {
      "cell_type": "code",
      "execution_count": 19,
      "metadata": {
        "colab": {
          "base_uri": "https://localhost:8080/"
        },
        "id": "1Re14YC0zYrr",
        "outputId": "4d0d7f99-cbdd-4adb-8296-f5222b658d57"
      },
      "outputs": [
        {
          "output_type": "stream",
          "name": "stdout",
          "text": [
            "102 14180\n",
            "139.01960784313727\n"
          ]
        }
      ],
      "source": [
        "# Type your code here\n",
        "m = len(price)\n",
        "\n",
        "n = np.array(price).sum()\n",
        "\n",
        "print (m,n)\n",
        "print(n/m)"
      ]
    },
    {
      "cell_type": "markdown",
      "metadata": {
        "id": "1rgQx6FbzYrs"
      },
      "source": [
        "#### What is the price of the costliest item sold?\n",
        "\n",
        "-  225\n",
        "-  310\n",
        "-  280\n",
        "-  285"
      ]
    },
    {
      "cell_type": "code",
      "execution_count": 20,
      "metadata": {
        "colab": {
          "base_uri": "https://localhost:8080/"
        },
        "id": "BFICHZidzYru",
        "outputId": "de5e2bbe-5def-4964-a620-f95fd36b7f52"
      },
      "outputs": [
        {
          "output_type": "stream",
          "name": "stdout",
          "text": [
            "285\n"
          ]
        }
      ],
      "source": [
        "# Type your code here\n",
        "print(max(price))"
      ]
    },
    {
      "cell_type": "markdown",
      "metadata": {
        "id": "g_KXW-K8zYrv"
      },
      "source": [
        "#### What is the total revenue of the company? [Revenue = Price\\*Quantity]\n",
        "\n",
        "-  67100\n",
        "-  53900\n",
        "-  45300\n",
        "-  71200"
      ]
    },
    {
      "cell_type": "code",
      "execution_count": 23,
      "metadata": {
        "colab": {
          "base_uri": "https://localhost:8080/"
        },
        "id": "vmazyXlzzYrx",
        "outputId": "77e4ccdb-36b8-41cc-9e39-ec61aed7244e"
      },
      "outputs": [
        {
          "output_type": "stream",
          "name": "stdout",
          "text": [
            "67100\n"
          ]
        }
      ],
      "source": [
        "# Type your code here\n",
        "qty = np.array(number)\n",
        "price = np.array(price)\n",
        "tot = price*qty\n",
        "print(tot.sum())\n"
      ]
    },
    {
      "cell_type": "markdown",
      "metadata": {
        "collapsed": true,
        "id": "Eejy1cZdzYr0"
      },
      "source": [
        "#### Demand for the 20th product in the list is more than the 50th product. [True/False]\n",
        "-  True\n",
        "-  False\n",
        "-  Can't be calculated"
      ]
    },
    {
      "cell_type": "code",
      "execution_count": 24,
      "metadata": {
        "colab": {
          "base_uri": "https://localhost:8080/"
        },
        "id": "7Kxu25ZAzYr2",
        "outputId": "07a093d7-5ac0-418f-f945-d454728e8b9f"
      },
      "outputs": [
        {
          "output_type": "stream",
          "name": "stdout",
          "text": [
            "True\n"
          ]
        }
      ],
      "source": [
        "# Type your code here\n",
        "m = number[20]>number[50]\n",
        "print(m)"
      ]
    },
    {
      "cell_type": "markdown",
      "metadata": {
        "id": "kdfmW5aRzYr4"
      },
      "source": [
        "#### How many products fall under the category of expensive goods? \n",
        "An expensive good is that good whose price is more than the average price of the products sold by the company.\n",
        "\n",
        "-  48\n",
        "-  50\n",
        "-  52\n",
        "-  54"
      ]
    },
    {
      "cell_type": "code",
      "execution_count": 25,
      "metadata": {
        "colab": {
          "base_uri": "https://localhost:8080/"
        },
        "id": "f8UfW6u0zYr5",
        "outputId": "4032e210-3304-4de3-8196-aaea51f2b440"
      },
      "outputs": [
        {
          "output_type": "stream",
          "name": "stdout",
          "text": [
            "52\n"
          ]
        }
      ],
      "source": [
        "# Type your code here\n",
        "price = np.array(price)\n",
        "m = (price > 139).sum()\n",
        "print(m)"
      ]
    },
    {
      "cell_type": "code",
      "execution_count": null,
      "metadata": {
        "id": "m3H3XkR4zYr6"
      },
      "outputs": [],
      "source": []
    }
  ],
  "metadata": {
    "kernelspec": {
      "display_name": "Python 3",
      "language": "python",
      "name": "python3"
    },
    "language_info": {
      "codemirror_mode": {
        "name": "ipython",
        "version": 3
      },
      "file_extension": ".py",
      "mimetype": "text/x-python",
      "name": "python",
      "nbconvert_exporter": "python",
      "pygments_lexer": "ipython3",
      "version": "3.7.0"
    },
    "colab": {
      "provenance": [],
      "include_colab_link": true
    }
  },
  "nbformat": 4,
  "nbformat_minor": 0
}