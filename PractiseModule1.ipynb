{
  "nbformat": 4,
  "nbformat_minor": 0,
  "metadata": {
    "colab": {
      "provenance": [],
      "authorship_tag": "ABX9TyMaqZ5prDx7AOuPp4GHUsHC",
      "include_colab_link": true
    },
    "kernelspec": {
      "name": "python3",
      "display_name": "Python 3"
    },
    "language_info": {
      "name": "python"
    }
  },
  "cells": [
    {
      "cell_type": "markdown",
      "metadata": {
        "id": "view-in-github",
        "colab_type": "text"
      },
      "source": [
        "<a href=\"https://colab.research.google.com/github/SatyaIyerRaghav/PandaPractisePrograms/blob/main/PractiseModule1.ipynb\" target=\"_parent\"><img src=\"https://colab.research.google.com/assets/colab-badge.svg\" alt=\"Open In Colab\"/></a>"
      ]
    },
    {
      "cell_type": "markdown",
      "source": [
        "# **Basics Of Phython Programming**\n",
        "\n"
      ],
      "metadata": {
        "id": "16VVwzgCb0Hp"
      }
    },
    {
      "cell_type": "markdown",
      "source": [
        "This is Module1 and Module2 Practice Programs.**Python**"
      ],
      "metadata": {
        "id": "wa7gACoebcIP"
      }
    },
    {
      "cell_type": "code",
      "source": [
        "# 1.   SWAPPING OF TWO NUMBERS  \n",
        "\n",
        "a = int(input(\"Enter Number1  \"))\n",
        "b = int(input(\"Enter Number2  \"))\n",
        "print(\"Before Swapping Num1 : {0}  and Num2 : {1}\".format(a,b))\n",
        "c=a\n",
        "a=b\n",
        "b=c\n",
        "print(\"After Swapping Num1 : {0}  and Num2 : {1}\".format(a,b))"
      ],
      "metadata": {
        "id": "Kj8tJsrzcZpN"
      },
      "execution_count": null,
      "outputs": []
    },
    {
      "cell_type": "code",
      "source": [
        "# SWAPPING SECOND METHOD WITHOUT USING THIRD VARIABLE\n",
        "\n",
        "a = int(input(\"Enter Number1  \"))\n",
        "b = int(input(\"Enter Number2  \"))\n",
        "print(\"Before Swapping Num1 : {0}  and Num2 : {1}\".format(a,b))\n",
        "a=a+b\n",
        "b= a-b\n",
        "a=a-b\n",
        "print(\"After Swapping without Third Variable Num1 : {0}  and Num2 : {1}\".format(a,b))"
      ],
      "metadata": {
        "id": "Rurd-5eogqDJ"
      },
      "execution_count": null,
      "outputs": []
    },
    {
      "cell_type": "code",
      "source": [
        "#2.  EVEN AND ODD\n",
        "\n",
        "num1 = int(input(\"Enter the Number\"))\n",
        "if num1%2 == 0 :\n",
        "  print(\"Given Number is EVEN\")\n",
        "else:\n",
        "  print(\"Given Number is ODD\")  \n"
      ],
      "metadata": {
        "id": "Wa4ysfDCcZs7"
      },
      "execution_count": null,
      "outputs": []
    },
    {
      "cell_type": "code",
      "source": [
        "#3. Alaram Clock \n",
        "'''\n",
        "Based on the day and whether you're on vacation, write a function that returns a time in form of a string indicating when the alarm clock should ring.\n",
        "When not on a vacation, on weekdays, the alarm should ring at \"7:00\" and on the weekends (Saturday and Sunday) it should ring at \"10:00\".\n",
        "While on a vacation, it should ring at \"10:00\" on weekdays. On vacation, it should not ring on weekends, i.e., it should return \"off\". \n",
        "'''\n",
        "isvaction = input(\"Are You in Vaction.Write Y /N :  \")\n",
        "WeekendDay = int(input(\"Is Weekend\"))\n",
        "Weekend =[6,7]\n",
        "\n",
        "if isvaction == \"Y\":\n",
        "    if WeekendDay not in Weekend:\n",
        "         print(\"Alaram Will ring at 10:00\")        \n",
        "    elif  WeekendDay in Weekend: \n",
        "         print(\"Alaram Off\")      \n",
        "else:\n",
        "    if WeekendDay not in Weekend :\n",
        "          print(\"Alaram Will ring at 7:00\")      \n",
        "    elif WeekendDay in Weekend: \n",
        "          print(\"Alaram will ring at 10:00\")\n",
        "      \n",
        "  "
      ],
      "metadata": {
        "id": "HGz86fw_cZwU"
      },
      "execution_count": null,
      "outputs": []
    },
    {
      "cell_type": "code",
      "source": [
        "# SAME PROGRAM WE CAN ALSO DO IT WITH FUNCTIONS\n",
        "\n",
        "isvaction = input(\"Are You in Vaction.Write Y /N :  \")\n",
        "WeekendDay = int(input(\"Is Weekend\"))\n",
        "Weekend =[6,7]\n",
        "\n",
        "\n",
        "def alaram_clk(isvaction,weekends):\n",
        "  if isvaction == \"Y\":\n",
        "    if WeekendDay not in Weekend:\n",
        "         return \"Alaram Will ring at 10:00\"        \n",
        "    elif  WeekendDay in Weekend: \n",
        "         return \"Alaram Off\"     \n",
        "  else:\n",
        "    if WeekendDay not in Weekend :\n",
        "          return \"Alaram Will ring at 7:00\"\n",
        "    elif WeekendDay in Weekend: \n",
        "           return \"Alaram will ring at 10:00\"\n",
        "\n",
        "print(alaram_clk(isvaction , WeekendDay))          "
      ],
      "metadata": {
        "id": "VaIKsGX0cZzu"
      },
      "execution_count": null,
      "outputs": []
    },
    {
      "cell_type": "code",
      "source": [
        "# 4.  FACTORIAL OF NUMBER\n",
        "\n",
        "a = int(input(\"Enter The Number: \"))\n",
        "fact =1\n",
        "for i in range(1,a+1):\n",
        "  fact = fact*i\n",
        "print(fact)\n"
      ],
      "metadata": {
        "id": "DHhkmU5QcK4B"
      },
      "execution_count": null,
      "outputs": []
    },
    {
      "cell_type": "code",
      "execution_count": null,
      "metadata": {
        "id": "PSSy9zibbaYu"
      },
      "outputs": [],
      "source": [
        "# 5.    REVERSE OF DIGITS\n",
        "\n",
        "a = int(input(\"Enter The Number\"))\n",
        "print(\"Original Number :  {0}\".format(a))\n",
        "rev = 0\n",
        "\n",
        "while(a>0):\n",
        "   rev = rev*10 + a%10\n",
        "   a = a//10\n",
        "print(rev)\n"
      ]
    },
    {
      "cell_type": "code",
      "source": [
        "# 6.  SMALLEST ELEMENT IN LIST [MIN,MAX,AVERAGE,MEDIAN]\n",
        "\n",
        "a = [1,3,-2,4]\n",
        "print(\"MIN OF a  \" ,min(a))\n",
        "print(\"MAX OF a \"  ,max(a))\n",
        "s =0\n",
        "n=0\n",
        "avg =0\n",
        "for i in a:\n",
        "  s = s+ i\n",
        "  n = len(a)\n",
        "  avg = s/n\n",
        "print(\"AVG OF a \"  , avg) \n"
      ],
      "metadata": {
        "id": "yulHpoynzEGy"
      },
      "execution_count": null,
      "outputs": []
    },
    {
      "cell_type": "code",
      "source": [
        "# 7 . INTERVIEW PROBLEM\n",
        "'''Recruit New Members\n",
        "Suppose you are a manager as a big firm and now are looking for new members for your team. You sent out an advertisement and have received a few applications.\n",
        "You have a habit of scoring people on a scale of 100. You have given scores to all the members of your team and the new applications. \n",
        "The process of selection is going to be very straightforward if the applicant improves the average of the team then you hire the applicant to join the team \n",
        "or else reject the application. Remember the order of processing applications is going to be important here.\n",
        "You may see this as an extension of the previous problem, which it is. You may use the code written in the previous question as a function to improve \n",
        "the code quality.\n",
        "----------------------------------------------------------------------\n",
        "Input:\n",
        "Two lists on two separate lines.\n",
        "The first line will have the list of scores of current team members\n",
        "The second line will have the list of scores of the applicants.\n",
        "-----------------------------------------------------------------------\n",
        "Output:\n",
        "The list consisting of scores of the final team after hiring from the pool of applicants.\n",
        "----------------------------------------------------------------------\n",
        "Sample input:\n",
        "[23,45,34,76]\n",
        "[70,34,94]\n",
        "'''\n",
        "\n",
        "cur_team_score =[10,20,40,50,120]\n",
        "app_score = [30,60,55,80,30,55,78]\n",
        "\n",
        "def interview_selection(cur_score,app_score):\n",
        "   sum = 0\n",
        "   avg =0\n",
        "   l =\"\"\n",
        "   for i in cur_score:\n",
        "      sum = sum + i\n",
        "      avg = sum / len(cur_score)\n",
        "   print(avg)  \n",
        "\n",
        "   for i in app_score:\n",
        "       if avg < i and i not in cur_score:\n",
        "          cur_score.append(i) \n",
        "   return cur_score     \n",
        "\n",
        "print(interview_selection(cur_team_score,app_score))\n"
      ],
      "metadata": {
        "id": "Owq-58Gf0aha"
      },
      "execution_count": null,
      "outputs": []
    },
    {
      "cell_type": "code",
      "source": [
        "#. 8. CALENDER PROBLEM\n",
        "'''\n",
        "You are planning to go to your friend's wedding and you have long events all month, lasting at least a few days. You have the start and end dates of events\n",
        " and your task is to find out events overlapping with the wedding date.\n",
        "The code for taking input has already been written for you, please don't modify that, but do read and try to understand the way input has been taken. \n",
        "You will be asked to take input on your own for most of the problems here onwards. Taking data in a suitable format is an important skill for a Data Scientist.\n",
        "----------------------------------------------------------------------\n",
        "Input:\n",
        "The input will contain a list of lists where each sub-list has only two elements representing the start and end date of an event, the start date will be \n",
        "less than or equal to the end date. The next line of input will have a wedding date. \n",
        "\n",
        "Output:\n",
        "The output should have the number of events overlapping with the wedding date.\n",
        "----------------------------------------------------------------------\n",
        "Sample input:\n",
        "[ [29,31], [23,26], [24,25] ]\n",
        "24\n",
        "Sample output:\n",
        "2\n",
        "'''\n",
        "# here list are constant given\n",
        "\n",
        "mylist =[ [29,31], [23,26], [24,25] ]\n",
        "checkdate = int(input(\"Enter date to check\"))\n",
        "s1 = mylist[0]\n",
        "s2 = mylist[1]\n",
        "s3 = mylist[2]\n",
        "print(s1 , s2, s3)\n",
        "l = \"\"\n",
        "def clash_date(mylists,chkdate):\n",
        "  for i in mylist:\n",
        "     for j in i:\n",
        "        if checkdate==j:       \n",
        "         l = j \n",
        "         return l \n",
        "\n",
        "print(clash_date(mylist,checkdate))       \n",
        "\n"
      ],
      "metadata": {
        "id": "s16wcIfgEq_d"
      },
      "execution_count": null,
      "outputs": []
    },
    {
      "cell_type": "code",
      "source": [
        "#here list is limited .But if it n lists then we use second method\n",
        "mylist =[ [1, 4], [7, 10], [8, 8], [14, 23], [24,27] ]\n",
        "checkdate = int(input(\"Enter date to check\"))\n",
        "\n",
        "def clash_date(mylists,chkdate):\n",
        "  l =0\n",
        "  for i in mylist:\n",
        "    if i[0]<= chkdate and i[1]>=chkdate:\n",
        "       l = l+ 1\n",
        "    return l\n",
        "\n",
        "m = clash_date(mylist,checkdate)\n",
        "if m== 0:\n",
        "  print(\"No Clash\") \n",
        "else:\n",
        "   print(\"Clash\")"
      ],
      "metadata": {
        "id": "vEq_KSURm4v3"
      },
      "execution_count": null,
      "outputs": []
    },
    {
      "cell_type": "code",
      "source": [
        "# 9 . FENCED MATRIX\n",
        "'''\n",
        "Description\n",
        "You will be given two positive integers m and n. You have to make a list of lists (which can be visualised as a matrix) of size m*n, that is m sublists (rows),\n",
        "with each sublists having n integers (columns). The matrix should be such that it should have 1 on the border and 0 everywhere else. \n",
        "See sample input and output for more clarification.\n",
        "----------------------------------------------------------------------\n",
        "Input:\n",
        "Two integers separated by a comma\n",
        "Output:\n",
        "A list of lists of size m*n printed like matrix as shown in the sample output.\n",
        "---------------------------------------------------------------------\n",
        "Sample input:\n",
        "4,5\n",
        "'''\n",
        "\n",
        "a = int(input(\"Enter Row Size:\"))\n",
        "b = int(input(\"Enter Column Size:\"))\n",
        "mylist = [a,b]\n",
        "\n",
        "final =[0]*b\n",
        "final =[list(final) for i in range(a)]\n",
        "for i in range(a):\n",
        "    for j in range(b):\n",
        "        if i==0 or j==0 or i==a-1 or j==b-1:\n",
        "            final[i][j] =1\n",
        "            \n",
        "for i in final:\n",
        "    print(i)\n",
        "\n",
        "\n",
        "\n"
      ],
      "metadata": {
        "id": "T4qA2GBcunRU"
      },
      "execution_count": null,
      "outputs": []
    },
    {
      "cell_type": "code",
      "source": [
        "#.10  REVERSE OF STRING\n",
        "\n",
        "a = input(\"Enter The String   \")\n",
        "r=\"\"\n",
        "for i in range(1,len(a.lower())+1):\n",
        "    r = a[i-1] + r\n",
        "print(r)"
      ],
      "metadata": {
        "id": "CtrxnpB3RDE6"
      },
      "execution_count": null,
      "outputs": []
    },
    {
      "cell_type": "code",
      "source": [
        "# 11. STRING IS PALIDROME OR NOT\n",
        "\n",
        "a = input(\"Enter The String   \")\n",
        "r=\"\"\n",
        "for i in range(1,len(a.lower())+1):\n",
        "    r = a[i-1] + r\n",
        "\n",
        "if a == r:\n",
        "  print(\"palidrome\")\n",
        "else:\n",
        "  print(\"not a palidrome\")  \n"
      ],
      "metadata": {
        "id": "pBADWu9aVDjk"
      },
      "execution_count": null,
      "outputs": []
    },
    {
      "cell_type": "code",
      "source": [
        "# 12. REVERSE WORDS\n",
        "'''\n",
        "Input:\n",
        "A string, which will consist of a few spaces.\n",
        "Output:\n",
        "The words in reverse order.\n",
        "----------------------------------------------------------------------\n",
        "Sample input:\n",
        "I love coding in python\n",
        "Sample output:\n",
        "python in coding love I\n",
        "'''\n",
        "\n",
        "mystring = input(\"Enter The Line Of your Choice :  \")\n",
        "s = mystring.split(' ')\n",
        "r =\" \"\n",
        "for i in list(s):\n",
        "  r = i +\" \"+ r\n",
        "print(r)  \n",
        "\n"
      ],
      "metadata": {
        "id": "V56zodtcbaqD"
      },
      "execution_count": null,
      "outputs": []
    },
    {
      "cell_type": "code",
      "source": [
        "# 13.  "
      ],
      "metadata": {
        "id": "XbIIG01Gc-QC"
      },
      "execution_count": null,
      "outputs": []
    }
  ]
}