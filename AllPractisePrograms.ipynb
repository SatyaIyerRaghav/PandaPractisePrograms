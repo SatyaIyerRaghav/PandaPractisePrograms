{
  "nbformat": 4,
  "nbformat_minor": 0,
  "metadata": {
    "colab": {
      "provenance": [],
      "authorship_tag": "ABX9TyMJAHHPdpIIAVaUcOSalP/c",
      "include_colab_link": true
    },
    "kernelspec": {
      "name": "python3",
      "display_name": "Python 3"
    },
    "language_info": {
      "name": "python"
    }
  },
  "cells": [
    {
      "cell_type": "markdown",
      "metadata": {
        "id": "view-in-github",
        "colab_type": "text"
      },
      "source": [
        "<a href=\"https://colab.research.google.com/github/SatyaIyerRaghav/PandaPractisePrograms/blob/main/AllPractisePrograms.ipynb\" target=\"_parent\"><img src=\"https://colab.research.google.com/assets/colab-badge.svg\" alt=\"Open In Colab\"/></a>"
      ]
    },
    {
      "cell_type": "markdown",
      "source": [
        "Swapping\n",
        "Description\n",
        "You are given two integer variables,  x and y. You have to swap the values stored in x and y.\n",
        "\n",
        "----------------------------------------------------------------------\n",
        "Input:\n",
        "Two numbers x and y separated by a comma.\n",
        "\n",
        "Output:\n",
        "Print 5 lines. The first two lines will have values of variables shown before swapping, and the last two lines will have values of variables shown after swapping. The third line will be blank.\n",
        "\n",
        "----------------------------------------------------------------------\n",
        "Sample input:\n",
        "20, 50\n",
        "\n",
        "Sample output:\n",
        "x before swapping: 20\n",
        "y before swapping: 50\n",
        "\n",
        "x after swapping: 50\n",
        "y after swapping: 20"
      ],
      "metadata": {
        "id": "FZzDJqCTxXtd"
      }
    },
    {
      "cell_type": "code",
      "execution_count": 4,
      "metadata": {
        "colab": {
          "base_uri": "https://localhost:8080/",
          "height": 252
        },
        "id": "Y-xnoELRw6JX",
        "outputId": "023638ba-2af9-45b7-e3e7-e1c11c5c83cb"
      },
      "outputs": [
        {
          "name": "stdout",
          "output_type": "stream",
          "text": [
            "20 50\n"
          ]
        },
        {
          "output_type": "error",
          "ename": "ValueError",
          "evalue": "ignored",
          "traceback": [
            "\u001b[0;31m---------------------------------------------------------------------------\u001b[0m",
            "\u001b[0;31mValueError\u001b[0m                                Traceback (most recent call last)",
            "\u001b[0;32m<ipython-input-4-5fce3d1a25e9>\u001b[0m in \u001b[0;36m<cell line: 7>\u001b[0;34m()\u001b[0m\n\u001b[1;32m      5\u001b[0m \u001b[0;31m#here extract the two numbers from the string\u001b[0m\u001b[0;34m\u001b[0m\u001b[0;34m\u001b[0m\u001b[0m\n\u001b[1;32m      6\u001b[0m \u001b[0mmylist\u001b[0m \u001b[0;34m=\u001b[0m \u001b[0min_string\u001b[0m\u001b[0;34m.\u001b[0m\u001b[0msplit\u001b[0m\u001b[0;34m(\u001b[0m\u001b[0;34m','\u001b[0m\u001b[0;34m)\u001b[0m\u001b[0;34m\u001b[0m\u001b[0;34m\u001b[0m\u001b[0m\n\u001b[0;32m----> 7\u001b[0;31m \u001b[0mx\u001b[0m\u001b[0;34m=\u001b[0m \u001b[0mint\u001b[0m\u001b[0;34m(\u001b[0m\u001b[0mmylist\u001b[0m\u001b[0;34m[\u001b[0m\u001b[0;36m0\u001b[0m\u001b[0;34m]\u001b[0m\u001b[0;34m)\u001b[0m\u001b[0;34m\u001b[0m\u001b[0;34m\u001b[0m\u001b[0m\n\u001b[0m\u001b[1;32m      8\u001b[0m \u001b[0my\u001b[0m\u001b[0;34m=\u001b[0m \u001b[0mint\u001b[0m\u001b[0;34m(\u001b[0m\u001b[0mmylist\u001b[0m\u001b[0;34m[\u001b[0m\u001b[0;36m1\u001b[0m\u001b[0;34m]\u001b[0m\u001b[0;34m)\u001b[0m\u001b[0;34m\u001b[0m\u001b[0;34m\u001b[0m\u001b[0m\n\u001b[1;32m      9\u001b[0m \u001b[0;31m#print x and y before swapping\u001b[0m\u001b[0;34m\u001b[0m\u001b[0;34m\u001b[0m\u001b[0m\n",
            "\u001b[0;31mValueError\u001b[0m: invalid literal for int() with base 10: '20 50'"
          ]
        }
      ],
      "source": [
        "#Take input using input()\n",
        "\n",
        "#input() takes input in form of the string\n",
        "in_string=input()\n",
        "#here extract the two numbers from the string\n",
        "mylist = in_string.split(',')\n",
        "x= int(mylist[0])\n",
        "y= int(mylist[1])\n",
        "#print x and y before swapping\n",
        "print(\"x before swapping: {0}\".format(x))\n",
        "print(\"y before swapping: {0}\".format(y))\n",
        "\n",
        "#Writing your swapping code here\n",
        "z=x\n",
        "x=y\n",
        "y=z"
      ]
    },
    {
      "cell_type": "code",
      "source": [
        "i = ['abc','def','hjk','klj']\n",
        "i.remove('klj')\n",
        "print(i)\n",
        "i.append('ooo')\n",
        "print(i)"
      ],
      "metadata": {
        "colab": {
          "base_uri": "https://localhost:8080/"
        },
        "id": "3O1siexRxc57",
        "outputId": "2b41dd76-3553-42d2-80cf-bf07e2912e30"
      },
      "execution_count": 3,
      "outputs": [
        {
          "output_type": "stream",
          "name": "stdout",
          "text": [
            "['abc', 'def', 'hjk']\n",
            "['abc', 'def', 'hjk', 'ooo']\n"
          ]
        }
      ]
    },
    {
      "cell_type": "code",
      "source": [
        "import numpy as np\n",
        "\n",
        "a = np.zeros((8,8),dtype=int)\n",
        "print(a.shape)\n",
        "print(np.unravel_index(49, (8,8)))\n",
        "print()"
      ],
      "metadata": {
        "colab": {
          "base_uri": "https://localhost:8080/"
        },
        "id": "uVa5TNhhdBvf",
        "outputId": "a6813f88-4f74-4fb1-fe47-546c0bb8918e"
      },
      "execution_count": 13,
      "outputs": [
        {
          "output_type": "stream",
          "name": "stdout",
          "text": [
            "(8, 8)\n",
            "(6, 1)\n"
          ]
        }
      ]
    },
    {
      "cell_type": "code",
      "source": [
        "import numpy as np\n",
        "a = np.array([[1, 2, 3, 4, 5, 6, 7], [11, 12, 13, 14, 15, 16, 17],[21, 22, 23, 24, 25, 26, 27],[31, 32, 33, 34, 35, 36, 37]], np.int32)\n",
        "print(a[ :3 , -5: ])"
      ],
      "metadata": {
        "colab": {
          "base_uri": "https://localhost:8080/"
        },
        "id": "6g8y9ZaVe4FN",
        "outputId": "ad0e6451-ade7-4f7c-d149-bb3f0f854d01"
      },
      "execution_count": 14,
      "outputs": [
        {
          "output_type": "stream",
          "name": "stdout",
          "text": [
            "[[ 3  4  5  6  7]\n",
            " [13 14 15 16 17]\n",
            " [23 24 25 26 27]]\n"
          ]
        }
      ]
    },
    {
      "cell_type": "code",
      "source": [
        " np.arange(1,16,2).reshape(4, 2)"
      ],
      "metadata": {
        "colab": {
          "base_uri": "https://localhost:8080/"
        },
        "id": "7Sj-9Bvkvcvz",
        "outputId": "d46649fe-1c6f-498e-d354-36d97e9f4bf5"
      },
      "execution_count": 15,
      "outputs": [
        {
          "output_type": "execute_result",
          "data": {
            "text/plain": [
              "array([[ 1,  3],\n",
              "       [ 5,  7],\n",
              "       [ 9, 11],\n",
              "       [13, 15]])"
            ]
          },
          "metadata": {},
          "execution_count": 15
        }
      ]
    },
    {
      "cell_type": "code",
      "source": [],
      "metadata": {
        "id": "wC6ExZ9Cvwwx"
      },
      "execution_count": null,
      "outputs": []
    }
  ]
}