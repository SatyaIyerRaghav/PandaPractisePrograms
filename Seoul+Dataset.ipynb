{
  "cells": [
    {
      "cell_type": "markdown",
      "metadata": {
        "id": "view-in-github",
        "colab_type": "text"
      },
      "source": [
        "<a href=\"https://colab.research.google.com/github/SatyaIyerRaghav/PandaPractisePrograms/blob/main/Seoul%2BDataset.ipynb\" target=\"_parent\"><img src=\"https://colab.research.google.com/assets/colab-badge.svg\" alt=\"Open In Colab\"/></a>"
      ]
    },
    {
      "cell_type": "markdown",
      "metadata": {
        "id": "5H_9JcIsD46v"
      },
      "source": [
        "#### Question\n",
        "\n",
        "The air quality data for this segment has been divided into three different csv files. \n",
        "\n",
        "`info.csv` has the data hour by hour data about the concentration of polutants in the air and the status of the intruments. \n",
        "`item_info` has the data for items and levels of concetration. \n",
        "`station_info` has the data for measuring stations. \n",
        "\n",
        "Read in all the three datasets and then print the first five rows.\n",
        "\n",
        "You can download the dataset from kaggle website: https://www.kaggle.com/bappekim/air-pollution-in-seoul"
      ]
    },
    {
      "cell_type": "code",
      "execution_count": 6,
      "metadata": {
        "id": "b-5PYUlnD47E"
      },
      "outputs": [],
      "source": [
        "import pandas as pd"
      ]
    },
    {
      "cell_type": "code",
      "execution_count": 10,
      "metadata": {
        "colab": {
          "base_uri": "https://localhost:8080/"
        },
        "id": "AC_My2ADD47K",
        "outputId": "c9724650-b87d-4b06-ea10-6acb13c71260"
      },
      "outputs": [
        {
          "output_type": "stream",
          "name": "stdout",
          "text": [
            "   Measurement date  Station code  Item code  Average value  Instrument status\n",
            "0  2017-01-01 00:00           101          1          0.004                0.0\n",
            "1  2017-01-01 00:00           101          3          0.059                0.0\n",
            "2  2017-01-01 00:00           101          5          1.200                0.0\n",
            "3  2017-01-01 00:00           101          6          0.002                0.0\n",
            "4  2017-01-01 00:00           101          8         73.000                0.0\n"
          ]
        }
      ],
      "source": [
        "data = pd.read_csv('Measurement_info.csv')\n",
        "print(data.head())"
      ]
    },
    {
      "cell_type": "code",
      "execution_count": 11,
      "metadata": {
        "colab": {
          "base_uri": "https://localhost:8080/"
        },
        "id": "a17B--a5D47R",
        "outputId": "55d9adf3-be34-4853-f2c3-bd74f72456a1"
      },
      "outputs": [
        {
          "output_type": "stream",
          "name": "stdout",
          "text": [
            "   Item code Item name Unit of measurement  Good(Blue)  Normal(Green)  \\\n",
            "0          1       SO2                 ppm        0.02           0.05   \n",
            "1          3       NO2                 ppm        0.03           0.06   \n",
            "2          5        CO                 ppm        2.00           9.00   \n",
            "3          6        O3                 ppm        0.03           0.09   \n",
            "4          8      PM10       Mircrogram/m3       30.00          80.00   \n",
            "\n",
            "   Bad(Yellow)  Very bad(Red)  \n",
            "0         0.15            1.0  \n",
            "1         0.20            2.0  \n",
            "2        15.00           50.0  \n",
            "3         0.15            0.5  \n",
            "4       150.00          600.0  \n"
          ]
        }
      ],
      "source": [
        "item = pd.read_csv('Measurement_item_info.csv')\n",
        "print(item.head())"
      ]
    },
    {
      "cell_type": "code",
      "execution_count": 16,
      "metadata": {
        "colab": {
          "base_uri": "https://localhost:8080/"
        },
        "id": "5PnhgtuHD47T",
        "outputId": "9d8bafd5-ce53-4afc-ac1f-772ac7b6b4e5"
      },
      "outputs": [
        {
          "output_type": "stream",
          "name": "stdout",
          "text": [
            "   Station code Station name(district)  \\\n",
            "0           101              Jongno-gu   \n",
            "1           102                Jung-gu   \n",
            "2           103             Yongsan-gu   \n",
            "3           104           Eunpyeong-gu   \n",
            "4           105           Seodaemun-gu   \n",
            "\n",
            "                                             Address   Latitude   Longitude  \n",
            "0  19, Jong-ro 35ga-gil, Jongno-gu, Seoul, Republ...  37.572016  127.005008  \n",
            "1  15, Deoksugung-gil, Jung-gu, Seoul, Republic o...  37.564263  126.974676  \n",
            "2  136, Hannam-daero, Yongsan-gu, Seoul, Republic...  37.540033  127.004850  \n",
            "3  215, Jinheung-ro, Eunpyeong-gu, Seoul, Republi...  37.609823  126.934848  \n",
            "4  32, Segeomjeong-ro 4-gil, Seodaemun-gu, Seoul,...  37.593742  126.949679  \n"
          ]
        }
      ],
      "source": [
        "station =  pd.read_csv('Measurement_station_info.csv')\n",
        "print(station.head())"
      ]
    },
    {
      "cell_type": "markdown",
      "metadata": {
        "id": "Z6RP96NBD47W"
      },
      "source": [
        "#### Question\n",
        "\n",
        "Create a new Dataframe whcih has information about the item code and item name"
      ]
    },
    {
      "cell_type": "code",
      "execution_count": 13,
      "metadata": {
        "colab": {
          "base_uri": "https://localhost:8080/",
          "height": 206
        },
        "id": "yBHA4CMmD47Y",
        "outputId": "ce296e07-c19d-4967-ece7-56e749f1d01e"
      },
      "outputs": [
        {
          "output_type": "execute_result",
          "data": {
            "text/plain": [
              "   Item code Item name\n",
              "0          1       SO2\n",
              "1          3       NO2\n",
              "2          5        CO\n",
              "3          6        O3\n",
              "4          8      PM10"
            ],
            "text/html": [
              "\n",
              "  <div id=\"df-1e7a1151-e673-4f0b-b111-5fa3a4dd8cd4\">\n",
              "    <div class=\"colab-df-container\">\n",
              "      <div>\n",
              "<style scoped>\n",
              "    .dataframe tbody tr th:only-of-type {\n",
              "        vertical-align: middle;\n",
              "    }\n",
              "\n",
              "    .dataframe tbody tr th {\n",
              "        vertical-align: top;\n",
              "    }\n",
              "\n",
              "    .dataframe thead th {\n",
              "        text-align: right;\n",
              "    }\n",
              "</style>\n",
              "<table border=\"1\" class=\"dataframe\">\n",
              "  <thead>\n",
              "    <tr style=\"text-align: right;\">\n",
              "      <th></th>\n",
              "      <th>Item code</th>\n",
              "      <th>Item name</th>\n",
              "    </tr>\n",
              "  </thead>\n",
              "  <tbody>\n",
              "    <tr>\n",
              "      <th>0</th>\n",
              "      <td>1</td>\n",
              "      <td>SO2</td>\n",
              "    </tr>\n",
              "    <tr>\n",
              "      <th>1</th>\n",
              "      <td>3</td>\n",
              "      <td>NO2</td>\n",
              "    </tr>\n",
              "    <tr>\n",
              "      <th>2</th>\n",
              "      <td>5</td>\n",
              "      <td>CO</td>\n",
              "    </tr>\n",
              "    <tr>\n",
              "      <th>3</th>\n",
              "      <td>6</td>\n",
              "      <td>O3</td>\n",
              "    </tr>\n",
              "    <tr>\n",
              "      <th>4</th>\n",
              "      <td>8</td>\n",
              "      <td>PM10</td>\n",
              "    </tr>\n",
              "  </tbody>\n",
              "</table>\n",
              "</div>\n",
              "      <button class=\"colab-df-convert\" onclick=\"convertToInteractive('df-1e7a1151-e673-4f0b-b111-5fa3a4dd8cd4')\"\n",
              "              title=\"Convert this dataframe to an interactive table.\"\n",
              "              style=\"display:none;\">\n",
              "        \n",
              "  <svg xmlns=\"http://www.w3.org/2000/svg\" height=\"24px\"viewBox=\"0 0 24 24\"\n",
              "       width=\"24px\">\n",
              "    <path d=\"M0 0h24v24H0V0z\" fill=\"none\"/>\n",
              "    <path d=\"M18.56 5.44l.94 2.06.94-2.06 2.06-.94-2.06-.94-.94-2.06-.94 2.06-2.06.94zm-11 1L8.5 8.5l.94-2.06 2.06-.94-2.06-.94L8.5 2.5l-.94 2.06-2.06.94zm10 10l.94 2.06.94-2.06 2.06-.94-2.06-.94-.94-2.06-.94 2.06-2.06.94z\"/><path d=\"M17.41 7.96l-1.37-1.37c-.4-.4-.92-.59-1.43-.59-.52 0-1.04.2-1.43.59L10.3 9.45l-7.72 7.72c-.78.78-.78 2.05 0 2.83L4 21.41c.39.39.9.59 1.41.59.51 0 1.02-.2 1.41-.59l7.78-7.78 2.81-2.81c.8-.78.8-2.07 0-2.86zM5.41 20L4 18.59l7.72-7.72 1.47 1.35L5.41 20z\"/>\n",
              "  </svg>\n",
              "      </button>\n",
              "      \n",
              "  <style>\n",
              "    .colab-df-container {\n",
              "      display:flex;\n",
              "      flex-wrap:wrap;\n",
              "      gap: 12px;\n",
              "    }\n",
              "\n",
              "    .colab-df-convert {\n",
              "      background-color: #E8F0FE;\n",
              "      border: none;\n",
              "      border-radius: 50%;\n",
              "      cursor: pointer;\n",
              "      display: none;\n",
              "      fill: #1967D2;\n",
              "      height: 32px;\n",
              "      padding: 0 0 0 0;\n",
              "      width: 32px;\n",
              "    }\n",
              "\n",
              "    .colab-df-convert:hover {\n",
              "      background-color: #E2EBFA;\n",
              "      box-shadow: 0px 1px 2px rgba(60, 64, 67, 0.3), 0px 1px 3px 1px rgba(60, 64, 67, 0.15);\n",
              "      fill: #174EA6;\n",
              "    }\n",
              "\n",
              "    [theme=dark] .colab-df-convert {\n",
              "      background-color: #3B4455;\n",
              "      fill: #D2E3FC;\n",
              "    }\n",
              "\n",
              "    [theme=dark] .colab-df-convert:hover {\n",
              "      background-color: #434B5C;\n",
              "      box-shadow: 0px 1px 3px 1px rgba(0, 0, 0, 0.15);\n",
              "      filter: drop-shadow(0px 1px 2px rgba(0, 0, 0, 0.3));\n",
              "      fill: #FFFFFF;\n",
              "    }\n",
              "  </style>\n",
              "\n",
              "      <script>\n",
              "        const buttonEl =\n",
              "          document.querySelector('#df-1e7a1151-e673-4f0b-b111-5fa3a4dd8cd4 button.colab-df-convert');\n",
              "        buttonEl.style.display =\n",
              "          google.colab.kernel.accessAllowed ? 'block' : 'none';\n",
              "\n",
              "        async function convertToInteractive(key) {\n",
              "          const element = document.querySelector('#df-1e7a1151-e673-4f0b-b111-5fa3a4dd8cd4');\n",
              "          const dataTable =\n",
              "            await google.colab.kernel.invokeFunction('convertToInteractive',\n",
              "                                                     [key], {});\n",
              "          if (!dataTable) return;\n",
              "\n",
              "          const docLinkHtml = 'Like what you see? Visit the ' +\n",
              "            '<a target=\"_blank\" href=https://colab.research.google.com/notebooks/data_table.ipynb>data table notebook</a>'\n",
              "            + ' to learn more about interactive tables.';\n",
              "          element.innerHTML = '';\n",
              "          dataTable['output_type'] = 'display_data';\n",
              "          await google.colab.output.renderOutput(dataTable, element);\n",
              "          const docLink = document.createElement('div');\n",
              "          docLink.innerHTML = docLinkHtml;\n",
              "          element.appendChild(docLink);\n",
              "        }\n",
              "      </script>\n",
              "    </div>\n",
              "  </div>\n",
              "  "
            ]
          },
          "metadata": {},
          "execution_count": 13
        }
      ],
      "source": [
        "sub_item = item[['Item code' ,'Item name']]\n",
        "sub_item.head()"
      ]
    },
    {
      "cell_type": "markdown",
      "metadata": {
        "id": "TBGAfyRSD47a"
      },
      "source": [
        "#### Question\n",
        "\n",
        "Create a new Dataframe whcih has information about the station code and station name"
      ]
    },
    {
      "cell_type": "code",
      "execution_count": 22,
      "metadata": {
        "colab": {
          "base_uri": "https://localhost:8080/"
        },
        "id": "zbNn0AuYD47d",
        "outputId": "d723bbae-5150-4a9b-b0e3-443ce1355fb4"
      },
      "outputs": [
        {
          "output_type": "stream",
          "name": "stdout",
          "text": [
            "   Station code Station name(district)  \\\n",
            "0           101              Jongno-gu   \n",
            "1           102                Jung-gu   \n",
            "2           103             Yongsan-gu   \n",
            "3           104           Eunpyeong-gu   \n",
            "4           105           Seodaemun-gu   \n",
            "\n",
            "                                             Address   Latitude   Longitude  \n",
            "0  19, Jong-ro 35ga-gil, Jongno-gu, Seoul, Republ...  37.572016  127.005008  \n",
            "1  15, Deoksugung-gil, Jung-gu, Seoul, Republic o...  37.564263  126.974676  \n",
            "2  136, Hannam-daero, Yongsan-gu, Seoul, Republic...  37.540033  127.004850  \n",
            "3  215, Jinheung-ro, Eunpyeong-gu, Seoul, Republi...  37.609823  126.934848  \n",
            "4  32, Segeomjeong-ro 4-gil, Seodaemun-gu, Seoul,...  37.593742  126.949679  \n",
            "    Station code Station name(district)\n",
            "0            101              Jongno-gu\n",
            "1            102                Jung-gu\n",
            "2            103             Yongsan-gu\n",
            "3            104           Eunpyeong-gu\n",
            "4            105           Seodaemun-gu\n",
            "5            106                Mapo-gu\n",
            "6            107           Seongdong-gu\n",
            "7            108            Gwangjin-gu\n",
            "8            109          Dongdaemun-gu\n",
            "9            110            Jungnang-gu\n",
            "10           111            Seongbuk-gu\n",
            "11           112             Gangbuk-gu\n",
            "12           113              Dobong-gu\n",
            "13           114               Nowon-gu\n",
            "14           115           Yangcheon-gu\n",
            "15           116             Gangseo-gu\n",
            "16           117                Guro-gu\n",
            "17           118           Geumcheon-gu\n",
            "18           119        Yeongdeungpo-gu\n",
            "19           120             Dongjak-gu\n",
            "20           121              Gwanak-gu\n",
            "21           122              Seocho-gu\n",
            "22           123             Gangnam-gu\n",
            "23           124              Songpa-gu\n",
            "24           125            Gangdong-gu\n"
          ]
        }
      ],
      "source": [
        "station =  pd.read_csv('Measurement_station_info.csv')\n",
        "print(station.head())\n",
        "sub_station = station[['Station code','Station name(district)']]\n",
        "print(sub_station)"
      ]
    },
    {
      "cell_type": "markdown",
      "metadata": {
        "id": "BVHD26LED47f"
      },
      "source": [
        "### Question \n",
        "\n",
        "In the `data` DataFrame add in a column displaying the names of the items. "
      ]
    },
    {
      "cell_type": "code",
      "execution_count": 26,
      "metadata": {
        "colab": {
          "base_uri": "https://localhost:8080/",
          "height": 397
        },
        "id": "LnA9Ct0tD47j",
        "outputId": "5b7e5f09-7ef3-4d73-b30d-4f0ea6a1987e"
      },
      "outputs": [
        {
          "output_type": "stream",
          "name": "stderr",
          "text": [
            "<ipython-input-26-1ec18332ca22>:2: FutureWarning: In a future version of pandas all arguments of concat except for the argument 'objs' will be keyword-only.\n",
            "  m = pd.concat(data,data_i)\n"
          ]
        },
        {
          "output_type": "error",
          "ename": "TypeError",
          "evalue": "ignored",
          "traceback": [
            "\u001b[0;31m---------------------------------------------------------------------------\u001b[0m",
            "\u001b[0;31mTypeError\u001b[0m                                 Traceback (most recent call last)",
            "\u001b[0;32m<ipython-input-26-1ec18332ca22>\u001b[0m in \u001b[0;36m<cell line: 2>\u001b[0;34m()\u001b[0m\n\u001b[1;32m      1\u001b[0m \u001b[0mdata_i\u001b[0m \u001b[0;34m=\u001b[0m \u001b[0mitem\u001b[0m\u001b[0;34m[\u001b[0m\u001b[0;34m'Item name'\u001b[0m\u001b[0;34m]\u001b[0m\u001b[0;34m\u001b[0m\u001b[0;34m\u001b[0m\u001b[0m\n\u001b[0;32m----> 2\u001b[0;31m \u001b[0mm\u001b[0m \u001b[0;34m=\u001b[0m \u001b[0mpd\u001b[0m\u001b[0;34m.\u001b[0m\u001b[0mconcat\u001b[0m\u001b[0;34m(\u001b[0m\u001b[0mdata\u001b[0m\u001b[0;34m,\u001b[0m\u001b[0mdata_i\u001b[0m\u001b[0;34m)\u001b[0m\u001b[0;34m\u001b[0m\u001b[0;34m\u001b[0m\u001b[0m\n\u001b[0m\u001b[1;32m      3\u001b[0m \u001b[0mprint\u001b[0m\u001b[0;34m(\u001b[0m\u001b[0mm\u001b[0m\u001b[0;34m.\u001b[0m\u001b[0mhead\u001b[0m\u001b[0;34m(\u001b[0m\u001b[0;34m)\u001b[0m\u001b[0;34m)\u001b[0m\u001b[0;34m\u001b[0m\u001b[0;34m\u001b[0m\u001b[0m\n",
            "\u001b[0;32m/usr/local/lib/python3.9/dist-packages/pandas/util/_decorators.py\u001b[0m in \u001b[0;36mwrapper\u001b[0;34m(*args, **kwargs)\u001b[0m\n\u001b[1;32m    329\u001b[0m                     \u001b[0mstacklevel\u001b[0m\u001b[0;34m=\u001b[0m\u001b[0mfind_stack_level\u001b[0m\u001b[0;34m(\u001b[0m\u001b[0;34m)\u001b[0m\u001b[0;34m,\u001b[0m\u001b[0;34m\u001b[0m\u001b[0;34m\u001b[0m\u001b[0m\n\u001b[1;32m    330\u001b[0m                 )\n\u001b[0;32m--> 331\u001b[0;31m             \u001b[0;32mreturn\u001b[0m \u001b[0mfunc\u001b[0m\u001b[0;34m(\u001b[0m\u001b[0;34m*\u001b[0m\u001b[0margs\u001b[0m\u001b[0;34m,\u001b[0m \u001b[0;34m**\u001b[0m\u001b[0mkwargs\u001b[0m\u001b[0;34m)\u001b[0m\u001b[0;34m\u001b[0m\u001b[0;34m\u001b[0m\u001b[0m\n\u001b[0m\u001b[1;32m    332\u001b[0m \u001b[0;34m\u001b[0m\u001b[0m\n\u001b[1;32m    333\u001b[0m         \u001b[0;31m# error: \"Callable[[VarArg(Any), KwArg(Any)], Any]\" has no\u001b[0m\u001b[0;34m\u001b[0m\u001b[0;34m\u001b[0m\u001b[0m\n",
            "\u001b[0;32m/usr/local/lib/python3.9/dist-packages/pandas/core/reshape/concat.py\u001b[0m in \u001b[0;36mconcat\u001b[0;34m(objs, axis, join, ignore_index, keys, levels, names, verify_integrity, sort, copy)\u001b[0m\n\u001b[1;32m    366\u001b[0m     \u001b[0;36m1\u001b[0m   \u001b[0;36m3\u001b[0m   \u001b[0;36m4\u001b[0m\u001b[0;34m\u001b[0m\u001b[0;34m\u001b[0m\u001b[0m\n\u001b[1;32m    367\u001b[0m     \"\"\"\n\u001b[0;32m--> 368\u001b[0;31m     op = _Concatenator(\n\u001b[0m\u001b[1;32m    369\u001b[0m         \u001b[0mobjs\u001b[0m\u001b[0;34m,\u001b[0m\u001b[0;34m\u001b[0m\u001b[0;34m\u001b[0m\u001b[0m\n\u001b[1;32m    370\u001b[0m         \u001b[0maxis\u001b[0m\u001b[0;34m=\u001b[0m\u001b[0maxis\u001b[0m\u001b[0;34m,\u001b[0m\u001b[0;34m\u001b[0m\u001b[0;34m\u001b[0m\u001b[0m\n",
            "\u001b[0;32m/usr/local/lib/python3.9/dist-packages/pandas/core/reshape/concat.py\u001b[0m in \u001b[0;36m__init__\u001b[0;34m(self, objs, axis, join, keys, levels, names, ignore_index, verify_integrity, copy, sort)\u001b[0m\n\u001b[1;32m    401\u001b[0m     ) -> None:\n\u001b[1;32m    402\u001b[0m         \u001b[0;32mif\u001b[0m \u001b[0misinstance\u001b[0m\u001b[0;34m(\u001b[0m\u001b[0mobjs\u001b[0m\u001b[0;34m,\u001b[0m \u001b[0;34m(\u001b[0m\u001b[0mABCSeries\u001b[0m\u001b[0;34m,\u001b[0m \u001b[0mABCDataFrame\u001b[0m\u001b[0;34m,\u001b[0m \u001b[0mstr\u001b[0m\u001b[0;34m)\u001b[0m\u001b[0;34m)\u001b[0m\u001b[0;34m:\u001b[0m\u001b[0;34m\u001b[0m\u001b[0;34m\u001b[0m\u001b[0m\n\u001b[0;32m--> 403\u001b[0;31m             raise TypeError(\n\u001b[0m\u001b[1;32m    404\u001b[0m                 \u001b[0;34m\"first argument must be an iterable of pandas \"\u001b[0m\u001b[0;34m\u001b[0m\u001b[0;34m\u001b[0m\u001b[0m\n\u001b[1;32m    405\u001b[0m                 \u001b[0;34mf'objects, you passed an object of type \"{type(objs).__name__}\"'\u001b[0m\u001b[0;34m\u001b[0m\u001b[0;34m\u001b[0m\u001b[0m\n",
            "\u001b[0;31mTypeError\u001b[0m: first argument must be an iterable of pandas objects, you passed an object of type \"DataFrame\""
          ]
        }
      ],
      "source": [
        "data_i = item['Item name']\n",
        "m = pd.concat(data,data_i)\n",
        "print(m.head())"
      ]
    },
    {
      "cell_type": "markdown",
      "metadata": {
        "id": "XF1AZzYBD47l"
      },
      "source": [
        "### Question \n",
        "\n",
        "In the `data_i` DataFrame add in a column displaying the names of the stations. "
      ]
    },
    {
      "cell_type": "code",
      "execution_count": null,
      "metadata": {
        "id": "PBzBGgCyD47n",
        "outputId": "3182450f-49a2-4be5-d0cd-c616ad0ffc53"
      },
      "outputs": [
        {
          "data": {
            "text/html": [
              "<div>\n",
              "<style scoped>\n",
              "    .dataframe tbody tr th:only-of-type {\n",
              "        vertical-align: middle;\n",
              "    }\n",
              "\n",
              "    .dataframe tbody tr th {\n",
              "        vertical-align: top;\n",
              "    }\n",
              "\n",
              "    .dataframe thead th {\n",
              "        text-align: right;\n",
              "    }\n",
              "</style>\n",
              "<table border=\"1\" class=\"dataframe\">\n",
              "  <thead>\n",
              "    <tr style=\"text-align: right;\">\n",
              "      <th></th>\n",
              "      <th>Measurement date</th>\n",
              "      <th>Station code</th>\n",
              "      <th>Item code</th>\n",
              "      <th>Average value</th>\n",
              "      <th>Instrument status</th>\n",
              "      <th>Item name</th>\n",
              "      <th>Station name(district)</th>\n",
              "    </tr>\n",
              "  </thead>\n",
              "  <tbody>\n",
              "    <tr>\n",
              "      <th>0</th>\n",
              "      <td>2017-01-01 00:00</td>\n",
              "      <td>101</td>\n",
              "      <td>1</td>\n",
              "      <td>0.004</td>\n",
              "      <td>0</td>\n",
              "      <td>SO2</td>\n",
              "      <td>Jongno-gu</td>\n",
              "    </tr>\n",
              "    <tr>\n",
              "      <th>1</th>\n",
              "      <td>2017-01-01 00:00</td>\n",
              "      <td>101</td>\n",
              "      <td>3</td>\n",
              "      <td>0.059</td>\n",
              "      <td>0</td>\n",
              "      <td>NO2</td>\n",
              "      <td>Jongno-gu</td>\n",
              "    </tr>\n",
              "    <tr>\n",
              "      <th>2</th>\n",
              "      <td>2017-01-01 00:00</td>\n",
              "      <td>101</td>\n",
              "      <td>5</td>\n",
              "      <td>1.200</td>\n",
              "      <td>0</td>\n",
              "      <td>CO</td>\n",
              "      <td>Jongno-gu</td>\n",
              "    </tr>\n",
              "    <tr>\n",
              "      <th>3</th>\n",
              "      <td>2017-01-01 00:00</td>\n",
              "      <td>101</td>\n",
              "      <td>6</td>\n",
              "      <td>0.002</td>\n",
              "      <td>0</td>\n",
              "      <td>O3</td>\n",
              "      <td>Jongno-gu</td>\n",
              "    </tr>\n",
              "    <tr>\n",
              "      <th>4</th>\n",
              "      <td>2017-01-01 00:00</td>\n",
              "      <td>101</td>\n",
              "      <td>8</td>\n",
              "      <td>73.000</td>\n",
              "      <td>0</td>\n",
              "      <td>PM10</td>\n",
              "      <td>Jongno-gu</td>\n",
              "    </tr>\n",
              "  </tbody>\n",
              "</table>\n",
              "</div>"
            ],
            "text/plain": [
              "   Measurement date  Station code  Item code  Average value  \\\n",
              "0  2017-01-01 00:00           101          1          0.004   \n",
              "1  2017-01-01 00:00           101          3          0.059   \n",
              "2  2017-01-01 00:00           101          5          1.200   \n",
              "3  2017-01-01 00:00           101          6          0.002   \n",
              "4  2017-01-01 00:00           101          8         73.000   \n",
              "\n",
              "   Instrument status Item name Station name(district)  \n",
              "0                  0       SO2              Jongno-gu  \n",
              "1                  0       NO2              Jongno-gu  \n",
              "2                  0        CO              Jongno-gu  \n",
              "3                  0        O3              Jongno-gu  \n",
              "4                  0      PM10              Jongno-gu  "
            ]
          },
          "execution_count": 44,
          "metadata": {},
          "output_type": "execute_result"
        }
      ],
      "source": [
        "data_s = "
      ]
    },
    {
      "cell_type": "markdown",
      "metadata": {
        "id": "sEt1ZPCAD47o"
      },
      "source": [
        "### Question \n",
        "\n",
        "In the `data_s` DataFrame drop the columns `Station code` and `Item code`. As these columns have not become redundant. You can find the relevant function in the pandas library [here](https://pandas.pydata.org/docs/reference/index.html). "
      ]
    },
    {
      "cell_type": "code",
      "execution_count": null,
      "metadata": {
        "id": "2wXKi8NtD47q",
        "outputId": "648c9c4a-8e65-42b8-e9ad-d01c45932c50"
      },
      "outputs": [
        {
          "data": {
            "text/html": [
              "<div>\n",
              "<style scoped>\n",
              "    .dataframe tbody tr th:only-of-type {\n",
              "        vertical-align: middle;\n",
              "    }\n",
              "\n",
              "    .dataframe tbody tr th {\n",
              "        vertical-align: top;\n",
              "    }\n",
              "\n",
              "    .dataframe thead th {\n",
              "        text-align: right;\n",
              "    }\n",
              "</style>\n",
              "<table border=\"1\" class=\"dataframe\">\n",
              "  <thead>\n",
              "    <tr style=\"text-align: right;\">\n",
              "      <th></th>\n",
              "      <th>Measurement date</th>\n",
              "      <th>Average value</th>\n",
              "      <th>Instrument status</th>\n",
              "      <th>Item name</th>\n",
              "      <th>Station name(district)</th>\n",
              "    </tr>\n",
              "  </thead>\n",
              "  <tbody>\n",
              "    <tr>\n",
              "      <th>0</th>\n",
              "      <td>2017-01-01 00:00</td>\n",
              "      <td>0.004</td>\n",
              "      <td>0</td>\n",
              "      <td>SO2</td>\n",
              "      <td>Jongno-gu</td>\n",
              "    </tr>\n",
              "    <tr>\n",
              "      <th>1</th>\n",
              "      <td>2017-01-01 00:00</td>\n",
              "      <td>0.059</td>\n",
              "      <td>0</td>\n",
              "      <td>NO2</td>\n",
              "      <td>Jongno-gu</td>\n",
              "    </tr>\n",
              "    <tr>\n",
              "      <th>2</th>\n",
              "      <td>2017-01-01 00:00</td>\n",
              "      <td>1.200</td>\n",
              "      <td>0</td>\n",
              "      <td>CO</td>\n",
              "      <td>Jongno-gu</td>\n",
              "    </tr>\n",
              "    <tr>\n",
              "      <th>3</th>\n",
              "      <td>2017-01-01 00:00</td>\n",
              "      <td>0.002</td>\n",
              "      <td>0</td>\n",
              "      <td>O3</td>\n",
              "      <td>Jongno-gu</td>\n",
              "    </tr>\n",
              "    <tr>\n",
              "      <th>4</th>\n",
              "      <td>2017-01-01 00:00</td>\n",
              "      <td>73.000</td>\n",
              "      <td>0</td>\n",
              "      <td>PM10</td>\n",
              "      <td>Jongno-gu</td>\n",
              "    </tr>\n",
              "  </tbody>\n",
              "</table>\n",
              "</div>"
            ],
            "text/plain": [
              "   Measurement date  Average value  Instrument status Item name  \\\n",
              "0  2017-01-01 00:00          0.004                  0       SO2   \n",
              "1  2017-01-01 00:00          0.059                  0       NO2   \n",
              "2  2017-01-01 00:00          1.200                  0        CO   \n",
              "3  2017-01-01 00:00          0.002                  0        O3   \n",
              "4  2017-01-01 00:00         73.000                  0      PM10   \n",
              "\n",
              "  Station name(district)  \n",
              "0              Jongno-gu  \n",
              "1              Jongno-gu  \n",
              "2              Jongno-gu  \n",
              "3              Jongno-gu  \n",
              "4              Jongno-gu  "
            ]
          },
          "execution_count": 45,
          "metadata": {},
          "output_type": "execute_result"
        }
      ],
      "source": [
        "data = "
      ]
    },
    {
      "cell_type": "markdown",
      "metadata": {
        "id": "wDk-kzgmD47s"
      },
      "source": [
        "### Question \n",
        "\n",
        "Given below are the meanings of the values in the `Instrument status`. \n",
        "\n",
        "- 0: Normal \n",
        "- 1: Need for calibration \n",
        "- 2: Abnormal\n",
        "- 4: Power cut off \n",
        "- 8: Under repair\n",
        "- 9: Abnormal data\n",
        "\n",
        "Using the information given above, add a column in the `data` DataFrame to give the status of the intsruments. Then drop the `Instrument status` column.  \n",
        "\n",
        "Hint: First create a dictionary from the data, then use the same dictionary to create a DataFrame and then merge the DataFrame. with `data`"
      ]
    },
    {
      "cell_type": "code",
      "execution_count": null,
      "metadata": {
        "id": "SE3iCBN_D47u",
        "outputId": "5de89991-e114-4939-e338-5f5b3be0c503"
      },
      "outputs": [
        {
          "data": {
            "text/plain": [
              "{'Instrument status': [0, 1, 2, 4, 8, 9],\n",
              " 'Status': ['Normal',\n",
              "  'Need for calibration',\n",
              "  'Abnormal',\n",
              "  'Power cut off',\n",
              "  'Under repair',\n",
              "  'Abnormal data']}"
            ]
          },
          "execution_count": 46,
          "metadata": {},
          "output_type": "execute_result"
        }
      ],
      "source": [
        "status_dict = "
      ]
    },
    {
      "cell_type": "code",
      "execution_count": null,
      "metadata": {
        "id": "-qJut6CyD47w",
        "outputId": "478364a9-a3d6-4511-f64b-c3c64518a103"
      },
      "outputs": [
        {
          "data": {
            "text/html": [
              "<div>\n",
              "<style scoped>\n",
              "    .dataframe tbody tr th:only-of-type {\n",
              "        vertical-align: middle;\n",
              "    }\n",
              "\n",
              "    .dataframe tbody tr th {\n",
              "        vertical-align: top;\n",
              "    }\n",
              "\n",
              "    .dataframe thead th {\n",
              "        text-align: right;\n",
              "    }\n",
              "</style>\n",
              "<table border=\"1\" class=\"dataframe\">\n",
              "  <thead>\n",
              "    <tr style=\"text-align: right;\">\n",
              "      <th></th>\n",
              "      <th>Instrument status</th>\n",
              "      <th>Status</th>\n",
              "    </tr>\n",
              "  </thead>\n",
              "  <tbody>\n",
              "    <tr>\n",
              "      <th>0</th>\n",
              "      <td>0</td>\n",
              "      <td>Normal</td>\n",
              "    </tr>\n",
              "    <tr>\n",
              "      <th>1</th>\n",
              "      <td>1</td>\n",
              "      <td>Need for calibration</td>\n",
              "    </tr>\n",
              "    <tr>\n",
              "      <th>2</th>\n",
              "      <td>2</td>\n",
              "      <td>Abnormal</td>\n",
              "    </tr>\n",
              "    <tr>\n",
              "      <th>3</th>\n",
              "      <td>4</td>\n",
              "      <td>Power cut off</td>\n",
              "    </tr>\n",
              "    <tr>\n",
              "      <th>4</th>\n",
              "      <td>8</td>\n",
              "      <td>Under repair</td>\n",
              "    </tr>\n",
              "    <tr>\n",
              "      <th>5</th>\n",
              "      <td>9</td>\n",
              "      <td>Abnormal data</td>\n",
              "    </tr>\n",
              "  </tbody>\n",
              "</table>\n",
              "</div>"
            ],
            "text/plain": [
              "   Instrument status                Status\n",
              "0                  0                Normal\n",
              "1                  1  Need for calibration\n",
              "2                  2              Abnormal\n",
              "3                  4         Power cut off\n",
              "4                  8          Under repair\n",
              "5                  9         Abnormal data"
            ]
          },
          "execution_count": 47,
          "metadata": {},
          "output_type": "execute_result"
        }
      ],
      "source": [
        "dictdf = "
      ]
    },
    {
      "cell_type": "code",
      "execution_count": null,
      "metadata": {
        "id": "cBFANkhnD470"
      },
      "outputs": [],
      "source": [
        "data = "
      ]
    },
    {
      "cell_type": "code",
      "execution_count": null,
      "metadata": {
        "id": "SMCFvderD471",
        "outputId": "fec3a6b9-36ca-4724-8261-0fe4f117d2d5"
      },
      "outputs": [
        {
          "data": {
            "text/html": [
              "<div>\n",
              "<style scoped>\n",
              "    .dataframe tbody tr th:only-of-type {\n",
              "        vertical-align: middle;\n",
              "    }\n",
              "\n",
              "    .dataframe tbody tr th {\n",
              "        vertical-align: top;\n",
              "    }\n",
              "\n",
              "    .dataframe thead th {\n",
              "        text-align: right;\n",
              "    }\n",
              "</style>\n",
              "<table border=\"1\" class=\"dataframe\">\n",
              "  <thead>\n",
              "    <tr style=\"text-align: right;\">\n",
              "      <th></th>\n",
              "      <th>Measurement date</th>\n",
              "      <th>Average value</th>\n",
              "      <th>Instrument status</th>\n",
              "      <th>Item name</th>\n",
              "      <th>Station name(district)</th>\n",
              "      <th>Status</th>\n",
              "    </tr>\n",
              "  </thead>\n",
              "  <tbody>\n",
              "    <tr>\n",
              "      <th>0</th>\n",
              "      <td>2017-01-01 00:00</td>\n",
              "      <td>0.004</td>\n",
              "      <td>0</td>\n",
              "      <td>SO2</td>\n",
              "      <td>Jongno-gu</td>\n",
              "      <td>Normal</td>\n",
              "    </tr>\n",
              "    <tr>\n",
              "      <th>1</th>\n",
              "      <td>2017-01-01 00:00</td>\n",
              "      <td>0.059</td>\n",
              "      <td>0</td>\n",
              "      <td>NO2</td>\n",
              "      <td>Jongno-gu</td>\n",
              "      <td>Normal</td>\n",
              "    </tr>\n",
              "    <tr>\n",
              "      <th>2</th>\n",
              "      <td>2017-01-01 00:00</td>\n",
              "      <td>1.200</td>\n",
              "      <td>0</td>\n",
              "      <td>CO</td>\n",
              "      <td>Jongno-gu</td>\n",
              "      <td>Normal</td>\n",
              "    </tr>\n",
              "    <tr>\n",
              "      <th>3</th>\n",
              "      <td>2017-01-01 00:00</td>\n",
              "      <td>0.002</td>\n",
              "      <td>0</td>\n",
              "      <td>O3</td>\n",
              "      <td>Jongno-gu</td>\n",
              "      <td>Normal</td>\n",
              "    </tr>\n",
              "    <tr>\n",
              "      <th>4</th>\n",
              "      <td>2017-01-01 00:00</td>\n",
              "      <td>73.000</td>\n",
              "      <td>0</td>\n",
              "      <td>PM10</td>\n",
              "      <td>Jongno-gu</td>\n",
              "      <td>Normal</td>\n",
              "    </tr>\n",
              "  </tbody>\n",
              "</table>\n",
              "</div>"
            ],
            "text/plain": [
              "   Measurement date  Average value  Instrument status Item name  \\\n",
              "0  2017-01-01 00:00          0.004                  0       SO2   \n",
              "1  2017-01-01 00:00          0.059                  0       NO2   \n",
              "2  2017-01-01 00:00          1.200                  0        CO   \n",
              "3  2017-01-01 00:00          0.002                  0        O3   \n",
              "4  2017-01-01 00:00         73.000                  0      PM10   \n",
              "\n",
              "  Station name(district)  Status  \n",
              "0              Jongno-gu  Normal  \n",
              "1              Jongno-gu  Normal  \n",
              "2              Jongno-gu  Normal  \n",
              "3              Jongno-gu  Normal  \n",
              "4              Jongno-gu  Normal  "
            ]
          },
          "execution_count": 50,
          "metadata": {},
          "output_type": "execute_result"
        }
      ],
      "source": []
    },
    {
      "cell_type": "code",
      "execution_count": null,
      "metadata": {
        "id": "Vxm15P-jD472"
      },
      "outputs": [],
      "source": [
        "data = "
      ]
    },
    {
      "cell_type": "code",
      "execution_count": null,
      "metadata": {
        "id": "bny_G1Q-D474",
        "outputId": "91e8736e-f55e-42b2-c9ea-a19b3b4390b1"
      },
      "outputs": [
        {
          "data": {
            "text/html": [
              "<div>\n",
              "<style scoped>\n",
              "    .dataframe tbody tr th:only-of-type {\n",
              "        vertical-align: middle;\n",
              "    }\n",
              "\n",
              "    .dataframe tbody tr th {\n",
              "        vertical-align: top;\n",
              "    }\n",
              "\n",
              "    .dataframe thead th {\n",
              "        text-align: right;\n",
              "    }\n",
              "</style>\n",
              "<table border=\"1\" class=\"dataframe\">\n",
              "  <thead>\n",
              "    <tr style=\"text-align: right;\">\n",
              "      <th></th>\n",
              "      <th>Measurement date</th>\n",
              "      <th>Average value</th>\n",
              "      <th>Item name</th>\n",
              "      <th>Station name(district)</th>\n",
              "      <th>Status</th>\n",
              "    </tr>\n",
              "  </thead>\n",
              "  <tbody>\n",
              "    <tr>\n",
              "      <th>0</th>\n",
              "      <td>2017-01-01 00:00</td>\n",
              "      <td>0.004</td>\n",
              "      <td>SO2</td>\n",
              "      <td>Jongno-gu</td>\n",
              "      <td>Normal</td>\n",
              "    </tr>\n",
              "    <tr>\n",
              "      <th>1</th>\n",
              "      <td>2017-01-01 00:00</td>\n",
              "      <td>0.059</td>\n",
              "      <td>NO2</td>\n",
              "      <td>Jongno-gu</td>\n",
              "      <td>Normal</td>\n",
              "    </tr>\n",
              "    <tr>\n",
              "      <th>2</th>\n",
              "      <td>2017-01-01 00:00</td>\n",
              "      <td>1.200</td>\n",
              "      <td>CO</td>\n",
              "      <td>Jongno-gu</td>\n",
              "      <td>Normal</td>\n",
              "    </tr>\n",
              "    <tr>\n",
              "      <th>3</th>\n",
              "      <td>2017-01-01 00:00</td>\n",
              "      <td>0.002</td>\n",
              "      <td>O3</td>\n",
              "      <td>Jongno-gu</td>\n",
              "      <td>Normal</td>\n",
              "    </tr>\n",
              "    <tr>\n",
              "      <th>4</th>\n",
              "      <td>2017-01-01 00:00</td>\n",
              "      <td>73.000</td>\n",
              "      <td>PM10</td>\n",
              "      <td>Jongno-gu</td>\n",
              "      <td>Normal</td>\n",
              "    </tr>\n",
              "  </tbody>\n",
              "</table>\n",
              "</div>"
            ],
            "text/plain": [
              "   Measurement date  Average value Item name Station name(district)  Status\n",
              "0  2017-01-01 00:00          0.004       SO2              Jongno-gu  Normal\n",
              "1  2017-01-01 00:00          0.059       NO2              Jongno-gu  Normal\n",
              "2  2017-01-01 00:00          1.200        CO              Jongno-gu  Normal\n",
              "3  2017-01-01 00:00          0.002        O3              Jongno-gu  Normal\n",
              "4  2017-01-01 00:00         73.000      PM10              Jongno-gu  Normal"
            ]
          },
          "execution_count": 53,
          "metadata": {},
          "output_type": "execute_result"
        }
      ],
      "source": []
    },
    {
      "cell_type": "markdown",
      "metadata": {
        "id": "xFnq0hwgD475"
      },
      "source": [
        "### Question \n",
        "\n",
        "Extract the time series data, that is year, month, date and hour form the `Measurement date` column. Once all the data is extrcted drop the `Measurement date` column. \n",
        "\n",
        "This operation might take some time as the dataset we are working with is very large. "
      ]
    },
    {
      "cell_type": "code",
      "execution_count": null,
      "metadata": {
        "id": "RM2BUXJSD476",
        "outputId": "92e4d246-cade-445f-cc90-b6f9eeb887a5"
      },
      "outputs": [
        {
          "data": {
            "text/html": [
              "<div>\n",
              "<style scoped>\n",
              "    .dataframe tbody tr th:only-of-type {\n",
              "        vertical-align: middle;\n",
              "    }\n",
              "\n",
              "    .dataframe tbody tr th {\n",
              "        vertical-align: top;\n",
              "    }\n",
              "\n",
              "    .dataframe thead th {\n",
              "        text-align: right;\n",
              "    }\n",
              "</style>\n",
              "<table border=\"1\" class=\"dataframe\">\n",
              "  <thead>\n",
              "    <tr style=\"text-align: right;\">\n",
              "      <th></th>\n",
              "      <th>Measurement date</th>\n",
              "      <th>Average value</th>\n",
              "      <th>Item name</th>\n",
              "      <th>Station name(district)</th>\n",
              "      <th>Status</th>\n",
              "      <th>Year</th>\n",
              "      <th>Month</th>\n",
              "      <th>Date</th>\n",
              "      <th>Hour</th>\n",
              "    </tr>\n",
              "  </thead>\n",
              "  <tbody>\n",
              "    <tr>\n",
              "      <th>0</th>\n",
              "      <td>2017-01-01 00:00</td>\n",
              "      <td>0.004</td>\n",
              "      <td>SO2</td>\n",
              "      <td>Jongno-gu</td>\n",
              "      <td>Normal</td>\n",
              "      <td>2017</td>\n",
              "      <td>1</td>\n",
              "      <td>1</td>\n",
              "      <td>0</td>\n",
              "    </tr>\n",
              "    <tr>\n",
              "      <th>1</th>\n",
              "      <td>2017-01-01 00:00</td>\n",
              "      <td>0.059</td>\n",
              "      <td>NO2</td>\n",
              "      <td>Jongno-gu</td>\n",
              "      <td>Normal</td>\n",
              "      <td>2017</td>\n",
              "      <td>1</td>\n",
              "      <td>1</td>\n",
              "      <td>0</td>\n",
              "    </tr>\n",
              "    <tr>\n",
              "      <th>2</th>\n",
              "      <td>2017-01-01 00:00</td>\n",
              "      <td>1.200</td>\n",
              "      <td>CO</td>\n",
              "      <td>Jongno-gu</td>\n",
              "      <td>Normal</td>\n",
              "      <td>2017</td>\n",
              "      <td>1</td>\n",
              "      <td>1</td>\n",
              "      <td>0</td>\n",
              "    </tr>\n",
              "    <tr>\n",
              "      <th>3</th>\n",
              "      <td>2017-01-01 00:00</td>\n",
              "      <td>0.002</td>\n",
              "      <td>O3</td>\n",
              "      <td>Jongno-gu</td>\n",
              "      <td>Normal</td>\n",
              "      <td>2017</td>\n",
              "      <td>1</td>\n",
              "      <td>1</td>\n",
              "      <td>0</td>\n",
              "    </tr>\n",
              "    <tr>\n",
              "      <th>4</th>\n",
              "      <td>2017-01-01 00:00</td>\n",
              "      <td>73.000</td>\n",
              "      <td>PM10</td>\n",
              "      <td>Jongno-gu</td>\n",
              "      <td>Normal</td>\n",
              "      <td>2017</td>\n",
              "      <td>1</td>\n",
              "      <td>1</td>\n",
              "      <td>0</td>\n",
              "    </tr>\n",
              "  </tbody>\n",
              "</table>\n",
              "</div>"
            ],
            "text/plain": [
              "   Measurement date  Average value Item name Station name(district)  Status  \\\n",
              "0  2017-01-01 00:00          0.004       SO2              Jongno-gu  Normal   \n",
              "1  2017-01-01 00:00          0.059       NO2              Jongno-gu  Normal   \n",
              "2  2017-01-01 00:00          1.200        CO              Jongno-gu  Normal   \n",
              "3  2017-01-01 00:00          0.002        O3              Jongno-gu  Normal   \n",
              "4  2017-01-01 00:00         73.000      PM10              Jongno-gu  Normal   \n",
              "\n",
              "   Year  Month  Date  Hour  \n",
              "0  2017      1     1     0  \n",
              "1  2017      1     1     0  \n",
              "2  2017      1     1     0  \n",
              "3  2017      1     1     0  \n",
              "4  2017      1     1     0  "
            ]
          },
          "execution_count": 56,
          "metadata": {},
          "output_type": "execute_result"
        }
      ],
      "source": [
        "data['Year'] = \n",
        "data['Month'] = \n",
        "data['Date'] = \n",
        "data['Hour'] = \n"
      ]
    },
    {
      "cell_type": "code",
      "execution_count": null,
      "metadata": {
        "id": "u3yUJIrWD478"
      },
      "outputs": [],
      "source": [
        "data = "
      ]
    },
    {
      "cell_type": "code",
      "execution_count": null,
      "metadata": {
        "id": "j75WiNqbD479",
        "outputId": "04f4cea7-1a6c-4d51-d0fa-0fa1519c441e"
      },
      "outputs": [
        {
          "data": {
            "text/html": [
              "<div>\n",
              "<style scoped>\n",
              "    .dataframe tbody tr th:only-of-type {\n",
              "        vertical-align: middle;\n",
              "    }\n",
              "\n",
              "    .dataframe tbody tr th {\n",
              "        vertical-align: top;\n",
              "    }\n",
              "\n",
              "    .dataframe thead th {\n",
              "        text-align: right;\n",
              "    }\n",
              "</style>\n",
              "<table border=\"1\" class=\"dataframe\">\n",
              "  <thead>\n",
              "    <tr style=\"text-align: right;\">\n",
              "      <th></th>\n",
              "      <th>Average value</th>\n",
              "      <th>Item name</th>\n",
              "      <th>Station name(district)</th>\n",
              "      <th>Status</th>\n",
              "      <th>Year</th>\n",
              "      <th>Month</th>\n",
              "      <th>Date</th>\n",
              "      <th>Hour</th>\n",
              "    </tr>\n",
              "  </thead>\n",
              "  <tbody>\n",
              "    <tr>\n",
              "      <th>0</th>\n",
              "      <td>0.004</td>\n",
              "      <td>SO2</td>\n",
              "      <td>Jongno-gu</td>\n",
              "      <td>Normal</td>\n",
              "      <td>2017</td>\n",
              "      <td>1</td>\n",
              "      <td>1</td>\n",
              "      <td>0</td>\n",
              "    </tr>\n",
              "    <tr>\n",
              "      <th>1</th>\n",
              "      <td>0.059</td>\n",
              "      <td>NO2</td>\n",
              "      <td>Jongno-gu</td>\n",
              "      <td>Normal</td>\n",
              "      <td>2017</td>\n",
              "      <td>1</td>\n",
              "      <td>1</td>\n",
              "      <td>0</td>\n",
              "    </tr>\n",
              "    <tr>\n",
              "      <th>2</th>\n",
              "      <td>1.200</td>\n",
              "      <td>CO</td>\n",
              "      <td>Jongno-gu</td>\n",
              "      <td>Normal</td>\n",
              "      <td>2017</td>\n",
              "      <td>1</td>\n",
              "      <td>1</td>\n",
              "      <td>0</td>\n",
              "    </tr>\n",
              "    <tr>\n",
              "      <th>3</th>\n",
              "      <td>0.002</td>\n",
              "      <td>O3</td>\n",
              "      <td>Jongno-gu</td>\n",
              "      <td>Normal</td>\n",
              "      <td>2017</td>\n",
              "      <td>1</td>\n",
              "      <td>1</td>\n",
              "      <td>0</td>\n",
              "    </tr>\n",
              "    <tr>\n",
              "      <th>4</th>\n",
              "      <td>73.000</td>\n",
              "      <td>PM10</td>\n",
              "      <td>Jongno-gu</td>\n",
              "      <td>Normal</td>\n",
              "      <td>2017</td>\n",
              "      <td>1</td>\n",
              "      <td>1</td>\n",
              "      <td>0</td>\n",
              "    </tr>\n",
              "  </tbody>\n",
              "</table>\n",
              "</div>"
            ],
            "text/plain": [
              "   Average value Item name Station name(district)  Status  Year  Month  Date  \\\n",
              "0          0.004       SO2              Jongno-gu  Normal  2017      1     1   \n",
              "1          0.059       NO2              Jongno-gu  Normal  2017      1     1   \n",
              "2          1.200        CO              Jongno-gu  Normal  2017      1     1   \n",
              "3          0.002        O3              Jongno-gu  Normal  2017      1     1   \n",
              "4         73.000      PM10              Jongno-gu  Normal  2017      1     1   \n",
              "\n",
              "   Hour  \n",
              "0     0  \n",
              "1     0  \n",
              "2     0  \n",
              "3     0  \n",
              "4     0  "
            ]
          },
          "execution_count": 59,
          "metadata": {},
          "output_type": "execute_result"
        }
      ],
      "source": []
    }
  ],
  "metadata": {
    "kernelspec": {
      "display_name": "Python 3",
      "language": "python",
      "name": "python3"
    },
    "language_info": {
      "codemirror_mode": {
        "name": "ipython",
        "version": 3
      },
      "file_extension": ".py",
      "mimetype": "text/x-python",
      "name": "python",
      "nbconvert_exporter": "python",
      "pygments_lexer": "ipython3",
      "version": "3.7.3"
    },
    "colab": {
      "provenance": [],
      "include_colab_link": true
    }
  },
  "nbformat": 4,
  "nbformat_minor": 0
}