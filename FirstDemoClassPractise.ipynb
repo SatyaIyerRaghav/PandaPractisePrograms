{
  "nbformat": 4,
  "nbformat_minor": 0,
  "metadata": {
    "colab": {
      "provenance": [],
      "authorship_tag": "ABX9TyOMdKw/gLby29e/tH+ec6EU",
      "include_colab_link": true
    },
    "kernelspec": {
      "name": "python3",
      "display_name": "Python 3"
    },
    "language_info": {
      "name": "python"
    }
  },
  "cells": [
    {
      "cell_type": "markdown",
      "metadata": {
        "id": "view-in-github",
        "colab_type": "text"
      },
      "source": [
        "<a href=\"https://colab.research.google.com/github/SatyaIyerRaghav/PandaPractisePrograms/blob/main/FirstDemoClassPractise.ipynb\" target=\"_parent\"><img src=\"https://colab.research.google.com/assets/colab-badge.svg\" alt=\"Open In Colab\"/></a>"
      ]
    },
    {
      "cell_type": "code",
      "execution_count": 4,
      "metadata": {
        "colab": {
          "base_uri": "https://localhost:8080/",
          "height": 130
        },
        "id": "gvxeaymTo1FM",
        "outputId": "272cc110-20f5-435e-b095-e8b1f59c8eef"
      },
      "outputs": [
        {
          "output_type": "error",
          "ename": "SyntaxError",
          "evalue": "ignored",
          "traceback": [
            "\u001b[0;36m  File \u001b[0;32m\"<ipython-input-4-9c91ccb21068>\"\u001b[0;36m, line \u001b[0;32m8\u001b[0m\n\u001b[0;31m    elif Book_Return_Date <=15:\u001b[0m\n\u001b[0m    ^\u001b[0m\n\u001b[0;31mSyntaxError\u001b[0m\u001b[0;31m:\u001b[0m invalid syntax\n"
          ]
        }
      ],
      "source": [
        "Book_Return_Date = int(input(\"Enter When You Return The Book\"))\n",
        "penalty = 0\n",
        "if Book_Return_Date <= 5:\n",
        "   print(\"No Fine\")\n",
        "elif Book_Return_Date <=10:\n",
        "    penalty = Book_Return_Date-5\n",
        "    print('Fine',(penalty*1))\n",
        "elif Book_Return_Date <=15:\n",
        "   penalty = Book_Return_Date-5\n",
        "   print('Fine',(penalty*3))\n",
        "else:\n",
        "   print(\"Fine\",(penalty*5))   "
      ]
    },
    {
      "cell_type": "code",
      "source": [
        "assuming a police officer scenario.\n",
        "ask the rider to priovide his speed ask the rider his/her birthday today.\n",
        "calculate the ticket as per the details below.If speed greater than 80 then display btreak ticket\n",
        "if 60 and 80 then display small tic.\n",
        "if speed less than 60 then display no ticket. if rider birthday then exempt 5km/h from his rided speed before calculating the ticket.Book_Return_Date"
      ],
      "metadata": {
        "id": "KQINlDOqsLW0"
      },
      "execution_count": null,
      "outputs": []
    },
    {
      "cell_type": "code",
      "source": [
        "speed = int(input(\"Enter speed \"))\n",
        "Bday = input(\"Enter Birthday date\")\n",
        "ticket = 0\n",
        "bspeed = speed-5\n",
        "print(bspeed)\n",
        "if Bday=='Yes' and bspeed >=80:\n",
        "       print('Big Ticket')\n",
        "elif Bday== 'Yes' and (bspeed >=60 or bspeed<=80):\n",
        "       print('small Ticket')   \n",
        "elif Bday== 'Yes' and bspeed <60:\n",
        "       print('No Ticket') \n",
        "elif Bday== 'No' and speed >=80:\n",
        "       print('Big Ticket')\n",
        "elif Bday== 'No' and (speed >=60 or speed<=80):\n",
        "       print('small Ticket')   \n",
        "elif Bday== 'No' and speed <60:\n",
        "       print('No Ticket')   \n",
        "else:\n",
        "     print(\"No Ticket\")        \n"
      ],
      "metadata": {
        "colab": {
          "base_uri": "https://localhost:8080/"
        },
        "id": "ZnS8ta_qu4Ad",
        "outputId": "996933a8-58df-4e83-892f-a781fc6767b2"
      },
      "execution_count": 12,
      "outputs": [
        {
          "output_type": "stream",
          "name": "stdout",
          "text": [
            "Enter speed 80\n",
            "Enter Birthday dateNo\n",
            "75\n",
            "Big Ticket\n"
          ]
        }
      ]
    },
    {
      "cell_type": "code",
      "source": [
        "\n",
        "count=0\n",
        "oddcount =0\n",
        "while number<= 5:\n",
        "   number = int(input(\"Enter Numbers\"))\n",
        "   if(number % 2 == 0 ):\n",
        "      print(\"Number is even\")\n",
        "   else:\n",
        "      print(\"Number is odd\")  \n",
        "      oddcount =oddcount+1   \n",
        "  "
      ],
      "metadata": {
        "colab": {
          "base_uri": "https://localhost:8080/"
        },
        "id": "SZMZwB7eybcR",
        "outputId": "ea6b0cd8-c302-47ec-d4b0-f15d0e880b74"
      },
      "execution_count": 24,
      "outputs": [
        {
          "output_type": "stream",
          "name": "stdout",
          "text": [
            "Enter Numbers3\n",
            "Number is odd\n",
            "Enter Numbers4\n",
            "Number is even\n",
            "Enter Numbers5\n",
            "Number is odd\n",
            "Enter Numbers6\n",
            "Number is even\n"
          ]
        }
      ]
    },
    {
      "cell_type": "code",
      "source": [
        "Guess the number game\n",
        "Assuming there are are 2 players in game\n",
        "generate a random number between 1 and 20 and store it in a variable say computerChoice\n",
        "Ask the use to guess a number between 1 and 20 and store it in a var as user calculateif userchoice> computerchoice display \"Your guess is too high\"\n"
      ],
      "metadata": {
        "id": "eCPjIzBT1Fos"
      },
      "execution_count": 15,
      "outputs": []
    },
    {
      "cell_type": "code",
      "source": [
        "import random\n",
        "ComputerChoice = random.randint(1,20)\n",
        "print(ComputerChoice)\n",
        "i=0\n",
        "while i <5:\n",
        "  UserChoice = int(input(\"Enter your number between 1 to 20\"))\n",
        "  if UserChoice > ComputerChoice :\n",
        "      print(\"Your Guess is too High\")\n",
        "      i=i+1\n",
        "  elif UserChoice == ComputerChoice :\n",
        "      print(\"Your Guess is correct\")\n",
        "      i=i+1\n",
        "  elif UserChoice < ComputerChoice :\n",
        "      print(\"Your Guess is too Less\")\n",
        "      i=i+1\n",
        "  else:\n",
        "      print(\"Sorry out of time.Only 5 chance is given\")    \n",
        "      i=i+1"
      ],
      "metadata": {
        "colab": {
          "base_uri": "https://localhost:8080/"
        },
        "id": "siiErET65HCE",
        "outputId": "14cd39fe-b6c5-4e1c-cc4c-9ab8ba94736f"
      },
      "execution_count": 28,
      "outputs": [
        {
          "output_type": "stream",
          "name": "stdout",
          "text": [
            "11\n",
            "Enter your number234\n",
            "Your Guess is too High\n",
            "Enter your number1\n",
            "Your Guess is too Less\n",
            "Enter your number11\n",
            "Your Guess is correct\n",
            "Enter your number23\n",
            "Your Guess is too High\n",
            "Enter your number7\n",
            "Your Guess is too Less\n"
          ]
        }
      ]
    },
    {
      "cell_type": "code",
      "source": [
        "import random\n",
        "ComputerChoice = random.randint(1,20)\n",
        "print(ComputerChoice)"
      ],
      "metadata": {
        "colab": {
          "base_uri": "https://localhost:8080/"
        },
        "id": "12xIoEao9USC",
        "outputId": "5a45071f-541c-4941-cd63-e7f484b008a9"
      },
      "execution_count": 40,
      "outputs": [
        {
          "output_type": "stream",
          "name": "stdout",
          "text": [
            "9\n"
          ]
        }
      ]
    },
    {
      "cell_type": "code",
      "source": [
        "n =5\n",
        "for i in range(n-1):\n",
        "  UserChoice=0\n",
        "  while UserChoice not in range(1,21):\n",
        "      UserChoice = int(input(\"Guess a  number in between 1 and 20 \"))\n",
        "\n",
        "  if UserChoice > ComputerChoice :\n",
        "      print(\"Your Guess is too High\")\n",
        "      \n",
        "  elif UserChoice == ComputerChoice :\n",
        "      print(\"Your Guess is correct\")\n",
        "      break\n",
        "      \n",
        "  elif UserChoice < ComputerChoice :\n",
        "      print(\"Your Guess is too Less\")\n",
        "      \n",
        "else:\n",
        "      print(\"Sorry out of time.Only 5 chance is given\")    \n",
        "      "
      ],
      "metadata": {
        "colab": {
          "base_uri": "https://localhost:8080/"
        },
        "id": "tgByPY_v5c4M",
        "outputId": "279cda85-389f-4267-ebcc-ddb4631a0430"
      },
      "execution_count": 41,
      "outputs": [
        {
          "output_type": "stream",
          "name": "stdout",
          "text": [
            "Guess a  number in between 1 and 20 12\n",
            "Your Guess is too High\n",
            "Guess a  number in between 1 and 20 34\n",
            "Guess a  number in between 1 and 20 5\n",
            "Your Guess is too Less\n",
            "Guess a  number in between 1 and 20 9\n",
            "Your Guess is correct\n"
          ]
        }
      ]
    },
    {
      "cell_type": "code",
      "source": [
        "  # this loop will run until it get the perfect number\n",
        "  \n",
        "  UserChoice =0\n",
        "  while UserChoice not in range(1,21):\n",
        "      UserChoice = int(input(\"Guess a  number in between 1 and 20 \"))"
      ],
      "metadata": {
        "colab": {
          "base_uri": "https://localhost:8080/"
        },
        "id": "fDfhJMY89I_H",
        "outputId": "af045084-1b3f-4388-b881-cc47f7800ffd"
      },
      "execution_count": 39,
      "outputs": [
        {
          "name": "stdout",
          "output_type": "stream",
          "text": [
            "Guess a  number in between 1 and 20 78\n",
            "Guess a  number in between 1 and 20 5\n"
          ]
        }
      ]
    },
    {
      "cell_type": "code",
      "source": [
        "Rajan's Encryption Algo.\n",
        "convert the below algo to code.\n",
        "1. take a input frm use\n",
        "2. reverse the input.\n",
        "3.replace vowels with numbers as,\n",
        "     a with 0\n",
        "     e with 1\n",
        "     i with 2\n",
        "     o with 3\n",
        "     u with 4\n",
        "     add aca at the end"
      ],
      "metadata": {
        "id": "WOXYTDB8-7_c"
      },
      "execution_count": null,
      "outputs": []
    },
    {
      "cell_type": "code",
      "source": [
        "s = input(\"Enter The String\")\n",
        "for i in s:\n",
        "  i =s[ : : -1]\n",
        "print(i)\n",
        "dict = {'a':'0','e':'1','i':'2','o':'3','u':'4'}\n",
        "\n",
        "for k in dict:\n",
        "  i = i.replace( k ,dict[k])\n",
        "print(i+\"aca\") \n",
        "\n",
        "\n",
        "\n",
        "\n",
        "\n",
        "\n"
      ],
      "metadata": {
        "colab": {
          "base_uri": "https://localhost:8080/"
        },
        "id": "pmnkQD2eMxis",
        "outputId": "f9f97374-fcc4-4782-dd54-189d3b3c445e"
      },
      "execution_count": 56,
      "outputs": [
        {
          "output_type": "stream",
          "name": "stdout",
          "text": [
            "Enter The Stringapple\n",
            "elppa\n",
            "1lpp0aca\n"
          ]
        }
      ]
    },
    {
      "cell_type": "code",
      "source": [],
      "metadata": {
        "id": "4MdBfpTZNQAc"
      },
      "execution_count": null,
      "outputs": []
    }
  ]
}