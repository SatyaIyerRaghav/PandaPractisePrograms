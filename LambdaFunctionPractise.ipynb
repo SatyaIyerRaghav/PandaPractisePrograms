{
  "nbformat": 4,
  "nbformat_minor": 0,
  "metadata": {
    "colab": {
      "provenance": [],
      "authorship_tag": "ABX9TyOxZW5VMpCRYktyCunHxQKV",
      "include_colab_link": true
    },
    "kernelspec": {
      "name": "python3",
      "display_name": "Python 3"
    },
    "language_info": {
      "name": "python"
    }
  },
  "cells": [
    {
      "cell_type": "markdown",
      "metadata": {
        "id": "view-in-github",
        "colab_type": "text"
      },
      "source": [
        "<a href=\"https://colab.research.google.com/github/SatyaIyerRaghav/PandaPractisePrograms/blob/main/LambdaFunctionPractise.ipynb\" target=\"_parent\"><img src=\"https://colab.research.google.com/assets/colab-badge.svg\" alt=\"Open In Colab\"/></a>"
      ]
    },
    {
      "cell_type": "markdown",
      "source": [
        "***# LAMBDA FUNCTIONS PRACTISE***\n"
      ],
      "metadata": {
        "id": "QKsovacfZ-tw"
      }
    },
    {
      "cell_type": "code",
      "execution_count": null,
      "metadata": {
        "id": "-kQqbhVzZ3jX"
      },
      "outputs": [],
      "source": [
        "#. 1 LAMBDA WITH STRINGS AND FUNCTIONS\n",
        "\n",
        "s= \"I love coDinG\"\n",
        "\n",
        "# print(lambda x : x = str.Upper(s))\n",
        "stringobj = (lambda string : string.title())\n",
        "print(stringobj(s))\n",
        "\n",
        "z = (lambda x : x+10)\n",
        "print(z(5))"
      ]
    },
    {
      "cell_type": "code",
      "source": [
        "# Using 2 or 3 variables\n",
        "\n",
        "x = lambda a,b : a*b\n",
        "print(x(2,3))\n",
        "\n",
        "fname = input(\"Enter First Name \")\n",
        "mname = input(\"Enter Middle Name \")\n",
        "lname = input(\"Enter Last Name \")\n",
        "fullname = (lambda fname,mname,lname : fname +\" \"+mname + \" \"+ lname)\n",
        "print(\"FULL NAME : \",fullname(fname,mname,lname))\n"
      ],
      "metadata": {
        "id": "5szzLe6Ga8f2"
      },
      "execution_count": null,
      "outputs": []
    },
    {
      "cell_type": "code",
      "source": [
        "# REVERSE OF STRING USING LAMBDA FUNCTION\n",
        "\n",
        "s = input(\"Enter a String \")\n",
        "a = (lambda x: x.lower()[::-1])\n",
        "print(a(s))"
      ],
      "metadata": {
        "colab": {
          "base_uri": "https://localhost:8080/"
        },
        "id": "0UembOWUfhv-",
        "outputId": "27e7e547-123d-4139-d894-1eac18a0120a"
      },
      "execution_count": 23,
      "outputs": [
        {
          "output_type": "stream",
          "name": "stdout",
          "text": [
            "Enter a String I love Coding\n",
            "gnidoc evol i\n"
          ]
        }
      ]
    },
    {
      "cell_type": "code",
      "source": [
        "# Difference between lambda and def function\n",
        "'''\n",
        "With lambda function\t                                                     Without lambda function\n",
        "Supports single line statements that returns some value.     \t      Supports any number of lines inside a function block\n",
        "Good for performing short operations/data manipulations.          \tGood for any cases that require multiple lines of code.\n",
        "Using lambda function can sometime reduce the readability of code.\tWe can use comments and function descriptions for easy readability.\n",
        "'''\n",
        "def cal(x):\n",
        "  return x*x*x\n",
        "\n",
        "lamdafun = lambda x : x*x*x\n",
        "\n",
        "print(cal(5))\n",
        "print(lamdafun(5))\n",
        "\n",
        "#Both gives the same output.See the writing and calling Style.\n"
      ],
      "metadata": {
        "id": "uZD_c2MFit4P"
      },
      "execution_count": null,
      "outputs": []
    },
    {
      "cell_type": "markdown",
      "source": [
        "# **.Practical Uses of Python lambda function**"
      ],
      "metadata": {
        "id": "ddhfz2LrksUC"
      }
    },
    {
      "cell_type": "code",
      "source": [
        "#Example 1: Python Lambda Function with List Comprehension\n",
        "\n",
        "mylist = (lambda args = x:  args * 10 for x in range(1,5))\n",
        "for i in mylist:\n",
        "  print(i())\n"
      ],
      "metadata": {
        "colab": {
          "base_uri": "https://localhost:8080/"
        },
        "id": "hUiQpL-Rhr2O",
        "outputId": "7cd70d87-e1c9-48fe-e124-8706cb51ba72"
      },
      "execution_count": 39,
      "outputs": [
        {
          "output_type": "stream",
          "name": "stdout",
          "text": [
            "10\n",
            "20\n",
            "30\n",
            "40\n"
          ]
        }
      ]
    },
    {
      "cell_type": "code",
      "source": [
        "# Example 2 :Python Lambda Function with if-else\n",
        "\n",
        "num = (lambda x : \"even\" if x%2==0 else \"odd\")\n",
        "p = int(input(\"Enter the number: \"))\n",
        "print(num(p))"
      ],
      "metadata": {
        "colab": {
          "base_uri": "https://localhost:8080/"
        },
        "id": "Vgc8C4nnkHNM",
        "outputId": "bb7d6b5c-ccce-4ba4-8f68-a0a926dcde11"
      },
      "execution_count": 43,
      "outputs": [
        {
          "output_type": "stream",
          "name": "stdout",
          "text": [
            "Enter the number: 35\n",
            "odd\n"
          ]
        }
      ]
    },
    {
      "cell_type": "code",
      "source": [
        "# . Example 3: Python Lambda with Multiple statements\n",
        "mylist = [[2,3,4],[1, 4, 16, 64],[3, 6, 9, 12]]\n",
        "numsort = lambda x: (sorted(i) for i in x)\n",
        "# numsort = lambda x : (sorted(i) for i in x)\n",
        "secondLargest = lambda x, f : [y[len(y)-2] for y in f(x)]\n",
        "res = secondLargest(mylist, numsort)\n",
        "print(res)"
      ],
      "metadata": {
        "colab": {
          "base_uri": "https://localhost:8080/"
        },
        "id": "4L-NAH9bmb_C",
        "outputId": "d0d6b80c-52a1-4a6c-99ee-172b1aff25c0"
      },
      "execution_count": 50,
      "outputs": [
        {
          "output_type": "stream",
          "name": "stdout",
          "text": [
            "[3, 16, 9]\n"
          ]
        }
      ]
    },
    {
      "cell_type": "code",
      "source": [
        "#.Using lambda() Function with filter()\n",
        "#Example 1: Filter out all odd numbers using filter() and lambda function\n",
        "\n",
        "mylist =[1,4,6,8,9,20,34,56,78,7,11]\n",
        "check = list(filter(lambda x:(x%2 != 0),mylist))\n",
        "print(check)\n",
        "\n"
      ],
      "metadata": {
        "colab": {
          "base_uri": "https://localhost:8080/"
        },
        "id": "jCDij3n0rAF-",
        "outputId": "159eabaf-b5e7-4b78-94cb-b3c01d597941"
      },
      "execution_count": 53,
      "outputs": [
        {
          "output_type": "stream",
          "name": "stdout",
          "text": [
            "[1, 9, 7, 11]\n"
          ]
        }
      ]
    },
    {
      "cell_type": "code",
      "source": [
        "#.Example 2: Filter all people having age more than 18, using lambda and filter() function\n",
        "\n",
        "agelist =[12,67,45,7,90,13,5,8]\n",
        "checkage = list(filter(lambda x:(x>18),agelist))\n",
        "print(checkage)"
      ],
      "metadata": {
        "colab": {
          "base_uri": "https://localhost:8080/"
        },
        "id": "EWmydjBdt2Gu",
        "outputId": "b48f00c8-abc3-4f77-c8d4-fecb95069900"
      },
      "execution_count": 54,
      "outputs": [
        {
          "output_type": "stream",
          "name": "stdout",
          "text": [
            "[67, 45, 90]\n"
          ]
        }
      ]
    },
    {
      "cell_type": "code",
      "source": [
        "#.Using lambda() Function with map()\n",
        "# Example 3: Multiply all elements of a list by 2 using lambda and map() function\n",
        "\n",
        "mylist=[1,4,6,8,9,2]\n",
        "m = list(map(lambda x: (x*2),mylist))\n",
        "print(m)"
      ],
      "metadata": {
        "colab": {
          "base_uri": "https://localhost:8080/"
        },
        "id": "H0OPybnWukgg",
        "outputId": "ff3c9525-a93f-445f-ff26-c0ef9b04d0a9"
      },
      "execution_count": 57,
      "outputs": [
        {
          "output_type": "stream",
          "name": "stdout",
          "text": [
            "[2, 8, 12, 16, 18, 4]\n"
          ]
        }
      ]
    },
    {
      "cell_type": "code",
      "source": [
        "#.Example 2: Transform all elements of a list to upper case using lambda and map() function\n",
        "\n",
        "mylist=['apple','banana','mango']\n",
        "s = list(map(lambda x :(x.upper()),mylist))\n",
        "print(s)\n"
      ],
      "metadata": {
        "colab": {
          "base_uri": "https://localhost:8080/"
        },
        "id": "noBUpa_kvumC",
        "outputId": "585df104-a05c-4345-b6a6-8fb4b6de1cca"
      },
      "execution_count": 1,
      "outputs": [
        {
          "output_type": "stream",
          "name": "stdout",
          "text": [
            "['APPLE', 'BANANA', 'MANGO']\n"
          ]
        }
      ]
    },
    {
      "cell_type": "code",
      "source": [
        "# Using lambda() Function with reduce()\n",
        "# Example 1: Sum of all elements in a list using lambda and reduce() function\n",
        "\n",
        "from functools import reduce\n",
        "mylist=[2,7,5,0,1]\n",
        "\n",
        "g = reduce((lambda x,y: x+y),mylist)\n",
        "print(g)\n"
      ],
      "metadata": {
        "id": "4G6J-7sIwKRg"
      },
      "execution_count": null,
      "outputs": []
    },
    {
      "cell_type": "code",
      "source": [
        "#. Example 2: Find the maximum element in a list using lambda and reduce() function\n",
        "\n",
        "from functools import reduce\n",
        "mylist = [78,56,4,0,66,44,66,90]\n",
        "maxnum = reduce((lambda x ,y : x if x >y else y),mylist)\n",
        "print(maxnum)"
      ],
      "metadata": {
        "colab": {
          "base_uri": "https://localhost:8080/"
        },
        "id": "vft7-knDeOPt",
        "outputId": "4a34a6c8-0f15-4891-ae64-7de1af9acd8b"
      },
      "execution_count": 14,
      "outputs": [
        {
          "output_type": "stream",
          "name": "stdout",
          "text": [
            "90\n"
          ]
        }
      ]
    },
    {
      "cell_type": "code",
      "source": [
        "# . Given a list of strings, find all palindromes.using lambda() and filter()\n",
        "\n",
        "mylist=[\"hannah\",\"found\",\"aabbaa\"]\n",
        "pal = list(filter(lambda x: (x == \"\".join(reversed(x))), mylist)) \n",
        "print(pal)\n"
      ],
      "metadata": {
        "colab": {
          "base_uri": "https://localhost:8080/"
        },
        "id": "676bUnv8m23i",
        "outputId": "e0523b8e-71a9-4afa-fa6c-04fd817821d5"
      },
      "execution_count": 30,
      "outputs": [
        {
          "output_type": "stream",
          "name": "stdout",
          "text": [
            "['hannah', 'aabbaa']\n"
          ]
        }
      ]
    },
    {
      "cell_type": "markdown",
      "source": [
        "Pandas dataframe groupby()"
      ],
      "metadata": {
        "id": "1SaTM1cesG-O"
      }
    },
    {
      "cell_type": "code",
      "source": [
        "\n",
        "import pandas as pd\n",
        "f= pd.read_csv('cars (2).csv')\n",
        "#print(list(f.columns))\n",
        "f.columns =['Country', 'Code', 'Country Name', 'Sales','Market']\n",
        "print(f.head(5))"
      ],
      "metadata": {
        "colab": {
          "base_uri": "https://localhost:8080/"
        },
        "id": "mWdBVY0rosPM",
        "outputId": "2e29e129-5ddf-437a-f1bc-3c0d3080019c"
      },
      "execution_count": 54,
      "outputs": [
        {
          "output_type": "stream",
          "name": "stdout",
          "text": [
            "  Country Code Country Name  Sales  Market\n",
            "0   ASPAC  AUS    Australia  731.0    True\n",
            "1   ASPAC  JAP        Japan  588.0    True\n",
            "2   ASPAC   IN        India   18.0    True\n",
            "3   ASPAC   RU       Russia  200.0   False\n",
            "4   LATAM  MOR      Morocco   70.0   False\n"
          ]
        }
      ]
    },
    {
      "cell_type": "code",
      "source": [
        "# groupby\n",
        "\n",
        "nba = pd.read_csv('nba.csv')\n",
        "# nba.head(5)\n",
        "p = nba.groupby('Team')\n",
        "p.head()\n"
      ],
      "metadata": {
        "id": "31qSQzuWsxxB"
      },
      "execution_count": null,
      "outputs": []
    },
    {
      "cell_type": "code",
      "source": [
        "# We use the function get_group() to find the entries contained in any of the groups. \n",
        "m = p.get_group('Utah Jazz')\n",
        "# n = p.get_group('Boston Celtics')\n",
        "m.head(3)\n",
        "# n.head(3)"
      ],
      "metadata": {
        "id": "FQ-vQZoxtky4"
      },
      "execution_count": null,
      "outputs": []
    },
    {
      "cell_type": "code",
      "source": [
        "#.using groupby for multiple rows.\n",
        "\n",
        "h = nba.groupby(['Team','Position'])\n",
        "h.first()"
      ],
      "metadata": {
        "colab": {
          "base_uri": "https://localhost:8080/",
          "height": 455
        },
        "id": "GYRze-c90FoL",
        "outputId": "bb53f11b-32fa-4a10-dc3d-366040651f06"
      },
      "execution_count": 73,
      "outputs": [
        {
          "output_type": "execute_result",
          "data": {
            "text/plain": [
              "                                         Name  Number   Age Height  Weight  \\\n",
              "Team               Position                                                  \n",
              "Atlanta Hawks      C               Al Horford    15.0  30.0   6-10   245.0   \n",
              "                   PF          Kris Humphries    43.0  31.0    6-9   235.0   \n",
              "                   PG         Dennis Schroder    17.0  22.0    6-1   172.0   \n",
              "                   SF           Kent Bazemore    24.0  26.0    6-5   201.0   \n",
              "                   SG        Tim Hardaway Jr.    10.0  24.0    6-6   205.0   \n",
              "...                                       ...     ...   ...    ...     ...   \n",
              "Washington Wizards C            Marcin Gortat    13.0  32.0   6-11   240.0   \n",
              "                   PF             Drew Gooden    90.0  34.0   6-10   250.0   \n",
              "                   PG          Ramon Sessions     7.0  30.0    6-3   190.0   \n",
              "                   SF            Jared Dudley     1.0  30.0    6-7   225.0   \n",
              "                   SG           Alan Anderson     6.0  33.0    6-6   220.0   \n",
              "\n",
              "                                          College      Salary  \n",
              "Team               Position                                    \n",
              "Atlanta Hawks      C                      Florida  12000000.0  \n",
              "                   PF                   Minnesota   1000000.0  \n",
              "                   PG                 Wake Forest   1763400.0  \n",
              "                   SF                Old Dominion   2000000.0  \n",
              "                   SG                    Michigan   1304520.0  \n",
              "...                                           ...         ...  \n",
              "Washington Wizards C         North Carolina State  11217391.0  \n",
              "                   PF                      Kansas   3300000.0  \n",
              "                   PG                      Nevada   2170465.0  \n",
              "                   SF              Boston College   4375000.0  \n",
              "                   SG              Michigan State   4000000.0  \n",
              "\n",
              "[149 rows x 7 columns]"
            ],
            "text/html": [
              "\n",
              "  <div id=\"df-db8d829b-852f-410c-8086-14079ed2e1b6\">\n",
              "    <div class=\"colab-df-container\">\n",
              "      <div>\n",
              "<style scoped>\n",
              "    .dataframe tbody tr th:only-of-type {\n",
              "        vertical-align: middle;\n",
              "    }\n",
              "\n",
              "    .dataframe tbody tr th {\n",
              "        vertical-align: top;\n",
              "    }\n",
              "\n",
              "    .dataframe thead th {\n",
              "        text-align: right;\n",
              "    }\n",
              "</style>\n",
              "<table border=\"1\" class=\"dataframe\">\n",
              "  <thead>\n",
              "    <tr style=\"text-align: right;\">\n",
              "      <th></th>\n",
              "      <th></th>\n",
              "      <th>Name</th>\n",
              "      <th>Number</th>\n",
              "      <th>Age</th>\n",
              "      <th>Height</th>\n",
              "      <th>Weight</th>\n",
              "      <th>College</th>\n",
              "      <th>Salary</th>\n",
              "    </tr>\n",
              "    <tr>\n",
              "      <th>Team</th>\n",
              "      <th>Position</th>\n",
              "      <th></th>\n",
              "      <th></th>\n",
              "      <th></th>\n",
              "      <th></th>\n",
              "      <th></th>\n",
              "      <th></th>\n",
              "      <th></th>\n",
              "    </tr>\n",
              "  </thead>\n",
              "  <tbody>\n",
              "    <tr>\n",
              "      <th rowspan=\"5\" valign=\"top\">Atlanta Hawks</th>\n",
              "      <th>C</th>\n",
              "      <td>Al Horford</td>\n",
              "      <td>15.0</td>\n",
              "      <td>30.0</td>\n",
              "      <td>6-10</td>\n",
              "      <td>245.0</td>\n",
              "      <td>Florida</td>\n",
              "      <td>12000000.0</td>\n",
              "    </tr>\n",
              "    <tr>\n",
              "      <th>PF</th>\n",
              "      <td>Kris Humphries</td>\n",
              "      <td>43.0</td>\n",
              "      <td>31.0</td>\n",
              "      <td>6-9</td>\n",
              "      <td>235.0</td>\n",
              "      <td>Minnesota</td>\n",
              "      <td>1000000.0</td>\n",
              "    </tr>\n",
              "    <tr>\n",
              "      <th>PG</th>\n",
              "      <td>Dennis Schroder</td>\n",
              "      <td>17.0</td>\n",
              "      <td>22.0</td>\n",
              "      <td>6-1</td>\n",
              "      <td>172.0</td>\n",
              "      <td>Wake Forest</td>\n",
              "      <td>1763400.0</td>\n",
              "    </tr>\n",
              "    <tr>\n",
              "      <th>SF</th>\n",
              "      <td>Kent Bazemore</td>\n",
              "      <td>24.0</td>\n",
              "      <td>26.0</td>\n",
              "      <td>6-5</td>\n",
              "      <td>201.0</td>\n",
              "      <td>Old Dominion</td>\n",
              "      <td>2000000.0</td>\n",
              "    </tr>\n",
              "    <tr>\n",
              "      <th>SG</th>\n",
              "      <td>Tim Hardaway Jr.</td>\n",
              "      <td>10.0</td>\n",
              "      <td>24.0</td>\n",
              "      <td>6-6</td>\n",
              "      <td>205.0</td>\n",
              "      <td>Michigan</td>\n",
              "      <td>1304520.0</td>\n",
              "    </tr>\n",
              "    <tr>\n",
              "      <th>...</th>\n",
              "      <th>...</th>\n",
              "      <td>...</td>\n",
              "      <td>...</td>\n",
              "      <td>...</td>\n",
              "      <td>...</td>\n",
              "      <td>...</td>\n",
              "      <td>...</td>\n",
              "      <td>...</td>\n",
              "    </tr>\n",
              "    <tr>\n",
              "      <th rowspan=\"5\" valign=\"top\">Washington Wizards</th>\n",
              "      <th>C</th>\n",
              "      <td>Marcin Gortat</td>\n",
              "      <td>13.0</td>\n",
              "      <td>32.0</td>\n",
              "      <td>6-11</td>\n",
              "      <td>240.0</td>\n",
              "      <td>North Carolina State</td>\n",
              "      <td>11217391.0</td>\n",
              "    </tr>\n",
              "    <tr>\n",
              "      <th>PF</th>\n",
              "      <td>Drew Gooden</td>\n",
              "      <td>90.0</td>\n",
              "      <td>34.0</td>\n",
              "      <td>6-10</td>\n",
              "      <td>250.0</td>\n",
              "      <td>Kansas</td>\n",
              "      <td>3300000.0</td>\n",
              "    </tr>\n",
              "    <tr>\n",
              "      <th>PG</th>\n",
              "      <td>Ramon Sessions</td>\n",
              "      <td>7.0</td>\n",
              "      <td>30.0</td>\n",
              "      <td>6-3</td>\n",
              "      <td>190.0</td>\n",
              "      <td>Nevada</td>\n",
              "      <td>2170465.0</td>\n",
              "    </tr>\n",
              "    <tr>\n",
              "      <th>SF</th>\n",
              "      <td>Jared Dudley</td>\n",
              "      <td>1.0</td>\n",
              "      <td>30.0</td>\n",
              "      <td>6-7</td>\n",
              "      <td>225.0</td>\n",
              "      <td>Boston College</td>\n",
              "      <td>4375000.0</td>\n",
              "    </tr>\n",
              "    <tr>\n",
              "      <th>SG</th>\n",
              "      <td>Alan Anderson</td>\n",
              "      <td>6.0</td>\n",
              "      <td>33.0</td>\n",
              "      <td>6-6</td>\n",
              "      <td>220.0</td>\n",
              "      <td>Michigan State</td>\n",
              "      <td>4000000.0</td>\n",
              "    </tr>\n",
              "  </tbody>\n",
              "</table>\n",
              "<p>149 rows × 7 columns</p>\n",
              "</div>\n",
              "      <button class=\"colab-df-convert\" onclick=\"convertToInteractive('df-db8d829b-852f-410c-8086-14079ed2e1b6')\"\n",
              "              title=\"Convert this dataframe to an interactive table.\"\n",
              "              style=\"display:none;\">\n",
              "        \n",
              "  <svg xmlns=\"http://www.w3.org/2000/svg\" height=\"24px\"viewBox=\"0 0 24 24\"\n",
              "       width=\"24px\">\n",
              "    <path d=\"M0 0h24v24H0V0z\" fill=\"none\"/>\n",
              "    <path d=\"M18.56 5.44l.94 2.06.94-2.06 2.06-.94-2.06-.94-.94-2.06-.94 2.06-2.06.94zm-11 1L8.5 8.5l.94-2.06 2.06-.94-2.06-.94L8.5 2.5l-.94 2.06-2.06.94zm10 10l.94 2.06.94-2.06 2.06-.94-2.06-.94-.94-2.06-.94 2.06-2.06.94z\"/><path d=\"M17.41 7.96l-1.37-1.37c-.4-.4-.92-.59-1.43-.59-.52 0-1.04.2-1.43.59L10.3 9.45l-7.72 7.72c-.78.78-.78 2.05 0 2.83L4 21.41c.39.39.9.59 1.41.59.51 0 1.02-.2 1.41-.59l7.78-7.78 2.81-2.81c.8-.78.8-2.07 0-2.86zM5.41 20L4 18.59l7.72-7.72 1.47 1.35L5.41 20z\"/>\n",
              "  </svg>\n",
              "      </button>\n",
              "      \n",
              "  <style>\n",
              "    .colab-df-container {\n",
              "      display:flex;\n",
              "      flex-wrap:wrap;\n",
              "      gap: 12px;\n",
              "    }\n",
              "\n",
              "    .colab-df-convert {\n",
              "      background-color: #E8F0FE;\n",
              "      border: none;\n",
              "      border-radius: 50%;\n",
              "      cursor: pointer;\n",
              "      display: none;\n",
              "      fill: #1967D2;\n",
              "      height: 32px;\n",
              "      padding: 0 0 0 0;\n",
              "      width: 32px;\n",
              "    }\n",
              "\n",
              "    .colab-df-convert:hover {\n",
              "      background-color: #E2EBFA;\n",
              "      box-shadow: 0px 1px 2px rgba(60, 64, 67, 0.3), 0px 1px 3px 1px rgba(60, 64, 67, 0.15);\n",
              "      fill: #174EA6;\n",
              "    }\n",
              "\n",
              "    [theme=dark] .colab-df-convert {\n",
              "      background-color: #3B4455;\n",
              "      fill: #D2E3FC;\n",
              "    }\n",
              "\n",
              "    [theme=dark] .colab-df-convert:hover {\n",
              "      background-color: #434B5C;\n",
              "      box-shadow: 0px 1px 3px 1px rgba(0, 0, 0, 0.15);\n",
              "      filter: drop-shadow(0px 1px 2px rgba(0, 0, 0, 0.3));\n",
              "      fill: #FFFFFF;\n",
              "    }\n",
              "  </style>\n",
              "\n",
              "      <script>\n",
              "        const buttonEl =\n",
              "          document.querySelector('#df-db8d829b-852f-410c-8086-14079ed2e1b6 button.colab-df-convert');\n",
              "        buttonEl.style.display =\n",
              "          google.colab.kernel.accessAllowed ? 'block' : 'none';\n",
              "\n",
              "        async function convertToInteractive(key) {\n",
              "          const element = document.querySelector('#df-db8d829b-852f-410c-8086-14079ed2e1b6');\n",
              "          const dataTable =\n",
              "            await google.colab.kernel.invokeFunction('convertToInteractive',\n",
              "                                                     [key], {});\n",
              "          if (!dataTable) return;\n",
              "\n",
              "          const docLinkHtml = 'Like what you see? Visit the ' +\n",
              "            '<a target=\"_blank\" href=https://colab.research.google.com/notebooks/data_table.ipynb>data table notebook</a>'\n",
              "            + ' to learn more about interactive tables.';\n",
              "          element.innerHTML = '';\n",
              "          dataTable['output_type'] = 'display_data';\n",
              "          await google.colab.output.renderOutput(dataTable, element);\n",
              "          const docLink = document.createElement('div');\n",
              "          docLink.innerHTML = docLinkHtml;\n",
              "          element.appendChild(docLink);\n",
              "        }\n",
              "      </script>\n",
              "    </div>\n",
              "  </div>\n",
              "  "
            ]
          },
          "metadata": {},
          "execution_count": 73
        }
      ]
    },
    {
      "cell_type": "code",
      "source": [
        "#. combine Groupby and Multiple Aggregate Functions in Pandas\n",
        "\n",
        "j = nba.groupby(['Salary']).mean()\n",
        "j.head(5)\n",
        "\n",
        "k = nba.Salary.agg([\"min\",\"max\",\"mean\",\"sum\"])\n",
        "k.head(5)\n",
        "\n",
        "g = nba.groupby(['Team','Position']).Salary.agg([\"min\",\"max\",\"mean\",\"sum\"])\n",
        "g.head(5)"
      ],
      "metadata": {
        "colab": {
          "base_uri": "https://localhost:8080/",
          "height": 292
        },
        "id": "1hzpO7Oz1SNS",
        "outputId": "f54575bf-c020-4a05-d5a3-49ef4ee5033a"
      },
      "execution_count": 86,
      "outputs": [
        {
          "output_type": "stream",
          "name": "stderr",
          "text": [
            "<ipython-input-86-fd6237972360>:3: FutureWarning: The default value of numeric_only in DataFrameGroupBy.mean is deprecated. In a future version, numeric_only will default to False. Either specify numeric_only or select only columns which should be valid for the function.\n",
            "  j = nba.groupby(['Salary']).mean()\n"
          ]
        },
        {
          "output_type": "execute_result",
          "data": {
            "text/plain": [
              "                              min         max          mean         sum\n",
              "Team          Position                                                 \n",
              "Atlanta Hawks C         1000000.0  12000000.0  7.585417e+06  22756250.0\n",
              "              PF         947276.0  18671659.0  5.988067e+06  23952268.0\n",
              "              PG        1763400.0   8000000.0  4.881700e+06   9763400.0\n",
              "              SF        2000000.0   4000000.0  3.000000e+06   6000000.0\n",
              "              SG         525093.0   5746479.0  2.607758e+06  10431032.0"
            ],
            "text/html": [
              "\n",
              "  <div id=\"df-ddacc8f7-014f-450f-bf6a-5203d5174677\">\n",
              "    <div class=\"colab-df-container\">\n",
              "      <div>\n",
              "<style scoped>\n",
              "    .dataframe tbody tr th:only-of-type {\n",
              "        vertical-align: middle;\n",
              "    }\n",
              "\n",
              "    .dataframe tbody tr th {\n",
              "        vertical-align: top;\n",
              "    }\n",
              "\n",
              "    .dataframe thead th {\n",
              "        text-align: right;\n",
              "    }\n",
              "</style>\n",
              "<table border=\"1\" class=\"dataframe\">\n",
              "  <thead>\n",
              "    <tr style=\"text-align: right;\">\n",
              "      <th></th>\n",
              "      <th></th>\n",
              "      <th>min</th>\n",
              "      <th>max</th>\n",
              "      <th>mean</th>\n",
              "      <th>sum</th>\n",
              "    </tr>\n",
              "    <tr>\n",
              "      <th>Team</th>\n",
              "      <th>Position</th>\n",
              "      <th></th>\n",
              "      <th></th>\n",
              "      <th></th>\n",
              "      <th></th>\n",
              "    </tr>\n",
              "  </thead>\n",
              "  <tbody>\n",
              "    <tr>\n",
              "      <th rowspan=\"5\" valign=\"top\">Atlanta Hawks</th>\n",
              "      <th>C</th>\n",
              "      <td>1000000.0</td>\n",
              "      <td>12000000.0</td>\n",
              "      <td>7.585417e+06</td>\n",
              "      <td>22756250.0</td>\n",
              "    </tr>\n",
              "    <tr>\n",
              "      <th>PF</th>\n",
              "      <td>947276.0</td>\n",
              "      <td>18671659.0</td>\n",
              "      <td>5.988067e+06</td>\n",
              "      <td>23952268.0</td>\n",
              "    </tr>\n",
              "    <tr>\n",
              "      <th>PG</th>\n",
              "      <td>1763400.0</td>\n",
              "      <td>8000000.0</td>\n",
              "      <td>4.881700e+06</td>\n",
              "      <td>9763400.0</td>\n",
              "    </tr>\n",
              "    <tr>\n",
              "      <th>SF</th>\n",
              "      <td>2000000.0</td>\n",
              "      <td>4000000.0</td>\n",
              "      <td>3.000000e+06</td>\n",
              "      <td>6000000.0</td>\n",
              "    </tr>\n",
              "    <tr>\n",
              "      <th>SG</th>\n",
              "      <td>525093.0</td>\n",
              "      <td>5746479.0</td>\n",
              "      <td>2.607758e+06</td>\n",
              "      <td>10431032.0</td>\n",
              "    </tr>\n",
              "  </tbody>\n",
              "</table>\n",
              "</div>\n",
              "      <button class=\"colab-df-convert\" onclick=\"convertToInteractive('df-ddacc8f7-014f-450f-bf6a-5203d5174677')\"\n",
              "              title=\"Convert this dataframe to an interactive table.\"\n",
              "              style=\"display:none;\">\n",
              "        \n",
              "  <svg xmlns=\"http://www.w3.org/2000/svg\" height=\"24px\"viewBox=\"0 0 24 24\"\n",
              "       width=\"24px\">\n",
              "    <path d=\"M0 0h24v24H0V0z\" fill=\"none\"/>\n",
              "    <path d=\"M18.56 5.44l.94 2.06.94-2.06 2.06-.94-2.06-.94-.94-2.06-.94 2.06-2.06.94zm-11 1L8.5 8.5l.94-2.06 2.06-.94-2.06-.94L8.5 2.5l-.94 2.06-2.06.94zm10 10l.94 2.06.94-2.06 2.06-.94-2.06-.94-.94-2.06-.94 2.06-2.06.94z\"/><path d=\"M17.41 7.96l-1.37-1.37c-.4-.4-.92-.59-1.43-.59-.52 0-1.04.2-1.43.59L10.3 9.45l-7.72 7.72c-.78.78-.78 2.05 0 2.83L4 21.41c.39.39.9.59 1.41.59.51 0 1.02-.2 1.41-.59l7.78-7.78 2.81-2.81c.8-.78.8-2.07 0-2.86zM5.41 20L4 18.59l7.72-7.72 1.47 1.35L5.41 20z\"/>\n",
              "  </svg>\n",
              "      </button>\n",
              "      \n",
              "  <style>\n",
              "    .colab-df-container {\n",
              "      display:flex;\n",
              "      flex-wrap:wrap;\n",
              "      gap: 12px;\n",
              "    }\n",
              "\n",
              "    .colab-df-convert {\n",
              "      background-color: #E8F0FE;\n",
              "      border: none;\n",
              "      border-radius: 50%;\n",
              "      cursor: pointer;\n",
              "      display: none;\n",
              "      fill: #1967D2;\n",
              "      height: 32px;\n",
              "      padding: 0 0 0 0;\n",
              "      width: 32px;\n",
              "    }\n",
              "\n",
              "    .colab-df-convert:hover {\n",
              "      background-color: #E2EBFA;\n",
              "      box-shadow: 0px 1px 2px rgba(60, 64, 67, 0.3), 0px 1px 3px 1px rgba(60, 64, 67, 0.15);\n",
              "      fill: #174EA6;\n",
              "    }\n",
              "\n",
              "    [theme=dark] .colab-df-convert {\n",
              "      background-color: #3B4455;\n",
              "      fill: #D2E3FC;\n",
              "    }\n",
              "\n",
              "    [theme=dark] .colab-df-convert:hover {\n",
              "      background-color: #434B5C;\n",
              "      box-shadow: 0px 1px 3px 1px rgba(0, 0, 0, 0.15);\n",
              "      filter: drop-shadow(0px 1px 2px rgba(0, 0, 0, 0.3));\n",
              "      fill: #FFFFFF;\n",
              "    }\n",
              "  </style>\n",
              "\n",
              "      <script>\n",
              "        const buttonEl =\n",
              "          document.querySelector('#df-ddacc8f7-014f-450f-bf6a-5203d5174677 button.colab-df-convert');\n",
              "        buttonEl.style.display =\n",
              "          google.colab.kernel.accessAllowed ? 'block' : 'none';\n",
              "\n",
              "        async function convertToInteractive(key) {\n",
              "          const element = document.querySelector('#df-ddacc8f7-014f-450f-bf6a-5203d5174677');\n",
              "          const dataTable =\n",
              "            await google.colab.kernel.invokeFunction('convertToInteractive',\n",
              "                                                     [key], {});\n",
              "          if (!dataTable) return;\n",
              "\n",
              "          const docLinkHtml = 'Like what you see? Visit the ' +\n",
              "            '<a target=\"_blank\" href=https://colab.research.google.com/notebooks/data_table.ipynb>data table notebook</a>'\n",
              "            + ' to learn more about interactive tables.';\n",
              "          element.innerHTML = '';\n",
              "          dataTable['output_type'] = 'display_data';\n",
              "          await google.colab.output.renderOutput(dataTable, element);\n",
              "          const docLink = document.createElement('div');\n",
              "          docLink.innerHTML = docLinkHtml;\n",
              "          element.appendChild(docLink);\n",
              "        }\n",
              "      </script>\n",
              "    </div>\n",
              "  </div>\n",
              "  "
            ]
          },
          "metadata": {},
          "execution_count": 86
        }
      ]
    },
    {
      "cell_type": "code",
      "source": [],
      "metadata": {
        "id": "hn_gzGrh2ZcE"
      },
      "execution_count": null,
      "outputs": []
    }
  ]
}